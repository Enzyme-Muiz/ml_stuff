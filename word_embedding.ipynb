{
 "cells": [
  {
   "cell_type": "code",
   "execution_count": 1,
   "metadata": {},
   "outputs": [
    {
     "name": "stdout",
     "output_type": "stream",
     "text": [
      "Collecting gensim\n",
      "  Downloading gensim-4.0.1-cp37-cp37m-win_amd64.whl (23.9 MB)\n",
      "Requirement already satisfied: numpy>=1.11.3 in c:\\users\\rajim\\appdata\\roaming\\python\\python37\\site-packages (from gensim) (1.20.3)\n",
      "Collecting Cython==0.29.21\n",
      "  Downloading Cython-0.29.21-cp37-cp37m-win_amd64.whl (1.6 MB)\n",
      "Collecting smart-open>=1.8.1\n",
      "  Downloading smart_open-5.1.0-py3-none-any.whl (57 kB)\n",
      "Requirement already satisfied: scipy>=0.18.1 in c:\\users\\rajim\\anaconda3\\envs\\r\\lib\\site-packages (from gensim) (1.5.4)\n",
      "Installing collected packages: Cython, smart-open, gensim\n",
      "  Attempting uninstall: Cython\n",
      "    Found existing installation: Cython 0.29.22\n",
      "    Uninstalling Cython-0.29.22:\n",
      "      Successfully uninstalled Cython-0.29.22\n",
      "Successfully installed Cython-0.29.21 gensim-4.0.1 smart-open-5.1.0\n"
     ]
    }
   ],
   "source": [
    "!pip install gensim"
   ]
  },
  {
   "cell_type": "code",
   "execution_count": 2,
   "metadata": {},
   "outputs": [
    {
     "name": "stdout",
     "output_type": "stream",
     "text": [
      "Collecting nltk\n",
      "  Downloading nltk-3.6.2-py3-none-any.whl (1.5 MB)\n",
      "Collecting click\n",
      "  Downloading click-8.0.1-py3-none-any.whl (97 kB)\n",
      "Collecting tqdm\n",
      "  Downloading tqdm-4.61.0-py2.py3-none-any.whl (75 kB)\n",
      "Collecting regex\n",
      "  Downloading regex-2021.4.4-cp37-cp37m-win_amd64.whl (269 kB)\n",
      "Requirement already satisfied: joblib in c:\\users\\rajim\\anaconda3\\envs\\r\\lib\\site-packages (from nltk) (0.17.0)\n",
      "Requirement already satisfied: colorama; platform_system == \"Windows\" in c:\\users\\rajim\\anaconda3\\envs\\r\\lib\\site-packages (from click->nltk) (0.4.4)\n",
      "Requirement already satisfied: importlib-metadata; python_version < \"3.8\" in c:\\users\\rajim\\anaconda3\\envs\\r\\lib\\site-packages (from click->nltk) (2.0.0)\n",
      "Requirement already satisfied: zipp>=0.5 in c:\\users\\rajim\\anaconda3\\envs\\r\\lib\\site-packages (from importlib-metadata; python_version < \"3.8\"->click->nltk) (3.4.0)\n",
      "Installing collected packages: click, tqdm, regex, nltk\n",
      "Successfully installed click-8.0.1 nltk-3.6.2 regex-2021.4.4 tqdm-4.61.0\n"
     ]
    }
   ],
   "source": [
    "!pip install nltk"
   ]
  },
  {
   "cell_type": "code",
   "execution_count": 7,
   "metadata": {},
   "outputs": [],
   "source": [
    "import nltk\n",
    "from nltk import word_tokenize,sent_tokenize"
   ]
  },
  {
   "cell_type": "code",
   "execution_count": 33,
   "metadata": {},
   "outputs": [],
   "source": [
    "from sklearn.decomposition import PCA"
   ]
  },
  {
   "cell_type": "code",
   "execution_count": 36,
   "metadata": {},
   "outputs": [],
   "source": [
    "import matplotlib.pyplot as plt"
   ]
  },
  {
   "cell_type": "code",
   "execution_count": 8,
   "metadata": {},
   "outputs": [],
   "source": [
    "path = 'C:/Users/rajim/Desktop/RNN_training.txt'\n",
    "text = open(path).read().lower()"
   ]
  },
  {
   "cell_type": "code",
   "execution_count": 12,
   "metadata": {},
   "outputs": [
    {
     "name": "stderr",
     "output_type": "stream",
     "text": [
      "[nltk_data] Downloading package punkt to\n",
      "[nltk_data]     C:\\Users\\rajim\\AppData\\Roaming\\nltk_data...\n",
      "[nltk_data]   Unzipping tokenizers\\punkt.zip.\n"
     ]
    },
    {
     "data": {
      "text/plain": [
       "True"
      ]
     },
     "execution_count": 12,
     "metadata": {},
     "output_type": "execute_result"
    }
   ],
   "source": [
    "nltk.download('punkt')"
   ]
  },
  {
   "cell_type": "code",
   "execution_count": 13,
   "metadata": {},
   "outputs": [],
   "source": [
    "sent_text = nltk.sent_tokenize(text) "
   ]
  },
  {
   "cell_type": "code",
   "execution_count": 14,
   "metadata": {},
   "outputs": [],
   "source": [
    "sentences=[]\n",
    "for sentence in sent_text:\n",
    "    tokenized_text = nltk.word_tokenize(sentence)\n",
    "    sentences.append(tokenized_text)"
   ]
  },
  {
   "cell_type": "code",
   "execution_count": 15,
   "metadata": {},
   "outputs": [
    {
     "data": {
      "text/plain": [
       "['down',\n",
       " 'the',\n",
       " 'rabbit-hole',\n",
       " 'alice',\n",
       " 'was',\n",
       " 'beginning',\n",
       " 'to',\n",
       " 'get',\n",
       " 'very',\n",
       " 'tired',\n",
       " 'of',\n",
       " 'sitting',\n",
       " 'by',\n",
       " 'her',\n",
       " 'sister',\n",
       " 'on',\n",
       " 'the',\n",
       " 'bank',\n",
       " ',',\n",
       " 'and',\n",
       " 'of',\n",
       " 'having',\n",
       " 'nothing',\n",
       " 'to',\n",
       " 'do',\n",
       " ':',\n",
       " 'once',\n",
       " 'or',\n",
       " 'twice',\n",
       " 'she',\n",
       " 'had',\n",
       " 'peeped',\n",
       " 'into',\n",
       " 'the',\n",
       " 'book',\n",
       " 'her',\n",
       " 'sister',\n",
       " 'was',\n",
       " 'reading',\n",
       " ',',\n",
       " 'but',\n",
       " 'it',\n",
       " 'had',\n",
       " 'no',\n",
       " 'pictures',\n",
       " 'or',\n",
       " 'conversations',\n",
       " 'in',\n",
       " 'it',\n",
       " ',',\n",
       " '“',\n",
       " 'and',\n",
       " 'what',\n",
       " 'is',\n",
       " 'the',\n",
       " 'use',\n",
       " 'of',\n",
       " 'a',\n",
       " 'book',\n",
       " ',',\n",
       " '”',\n",
       " 'thought',\n",
       " 'alice',\n",
       " '“',\n",
       " 'without',\n",
       " 'pictures',\n",
       " 'or',\n",
       " 'conversations',\n",
       " '?',\n",
       " '”',\n",
       " 'so',\n",
       " 'she',\n",
       " 'was',\n",
       " 'considering',\n",
       " 'in',\n",
       " 'her',\n",
       " 'own',\n",
       " 'mind',\n",
       " '(',\n",
       " 'as',\n",
       " 'well',\n",
       " 'as',\n",
       " 'she',\n",
       " 'could',\n",
       " ',',\n",
       " 'for',\n",
       " 'the',\n",
       " 'hot',\n",
       " 'day',\n",
       " 'made',\n",
       " 'her',\n",
       " 'feel',\n",
       " 'very',\n",
       " 'sleepy',\n",
       " 'and',\n",
       " 'stupid',\n",
       " ')',\n",
       " ',',\n",
       " 'whether',\n",
       " 'the',\n",
       " 'pleasure',\n",
       " 'of',\n",
       " 'making',\n",
       " 'a',\n",
       " 'daisy-chain',\n",
       " 'would',\n",
       " 'be',\n",
       " 'worth',\n",
       " 'the',\n",
       " 'trouble',\n",
       " 'of',\n",
       " 'getting',\n",
       " 'up',\n",
       " 'and',\n",
       " 'picking',\n",
       " 'the',\n",
       " 'daisies',\n",
       " ',',\n",
       " 'when',\n",
       " 'suddenly',\n",
       " 'a',\n",
       " 'white',\n",
       " 'rabbit',\n",
       " 'with',\n",
       " 'pink',\n",
       " 'eyes',\n",
       " 'ran',\n",
       " 'close',\n",
       " 'by',\n",
       " 'her',\n",
       " '.']"
      ]
     },
     "execution_count": 15,
     "metadata": {},
     "output_type": "execute_result"
    }
   ],
   "source": [
    "sentences[0]"
   ]
  },
  {
   "cell_type": "code",
   "execution_count": 16,
   "metadata": {},
   "outputs": [
    {
     "name": "stderr",
     "output_type": "stream",
     "text": [
      "C:\\Users\\rajim\\Anaconda3\\envs\\R\\lib\\site-packages\\gensim\\similarities\\__init__.py:15: UserWarning: The gensim.similarities.levenshtein submodule is disabled, because the optional Levenshtein package <https://pypi.org/project/python-Levenshtein/> is unavailable. Install Levenhstein (e.g. `pip install python-Levenshtein`) to suppress this warning.\n",
      "  warnings.warn(msg)\n"
     ]
    }
   ],
   "source": [
    "from gensim.models import Word2Vec"
   ]
  },
  {
   "cell_type": "code",
   "execution_count": 17,
   "metadata": {},
   "outputs": [],
   "source": [
    "model = Word2Vec(sentences, min_count=20)"
   ]
  },
  {
   "cell_type": "code",
   "execution_count": 18,
   "metadata": {},
   "outputs": [
    {
     "name": "stdout",
     "output_type": "stream",
     "text": [
      "Word2Vec(vocab=229, vector_size=100, alpha=0.025)\n"
     ]
    }
   ],
   "source": [
    "print(model)"
   ]
  },
  {
   "cell_type": "code",
   "execution_count": 21,
   "metadata": {},
   "outputs": [],
   "source": [
    "words = list(model.wv.index_to_key)"
   ]
  },
  {
   "cell_type": "code",
   "execution_count": 22,
   "metadata": {},
   "outputs": [
    {
     "name": "stdout",
     "output_type": "stream",
     "text": [
      "[',', 'the', '“', '”', 'and', '.', 'to', '’', 'a', 'of', 'it', 'she', 'i', 'you', 'said', '!', 'in', 'alice', 'was', 'that', 'as', 'her', ':', 'with', 'at', 't', '?', 'on', 's', ';', 'all', 'had', 'for', 'this', 'but', 'not', 'be', 'or', 'they', 'so', 'what', 'very', 'little', 'he', 'if', 'out', 'is', 'about', 'one', 'down', 'there', 'up', 'his', 'no', 'do', 'then', 'project', 'were', 'like', 'went', 'herself', 'have', 'them', 'by', '*', 'when', 'again', 'would', 'any', 'queen', 'could', 'thought', 'can', ')', 'know', '(', 'off', 'are', 'see', 'time', 'how', 'into', 'who', 'your', 'king', 'me', 'did', 'an', 'its', 'don', 'm', 'well', 'my', 'began', 'turtle', 'mock', 'which', 'll', 'gutenberg-tm', 'hatter', 'gryphon', 'other', 'now', 'way', 'quite', 'work', 'much', 'from', 'only', 'some', 'just', 'must', 'their', 'go', 'thing', 'head', 'first', 'say', 'voice', 'rabbit', 'more', 'such', '‘', 'get', 'come', 'looked', 'got', 'think', 'here', 'never', 've', 'duchess', 'after', 'round', 'we', 'over', 'him', 'came', 'dormouse', 'tone', 'before', 'oh', 'great', 'why', 'mouse', 'back', 'been', 're', 'two', 'cat', 'will', 'right', 'found', 'nothing', 'without', 'large', 'works', 'last', 'long', 'tell', 'march', 'moment', 'put', 'hare', 'looking', 'white', 'once', 'next', 'heard', 'made', 'things', 'make', 'dear', 'should', 'use', 'replied', 'upon', 'door', 'd', 'look', 'might', 'gutenberg', 'caterpillar', 'electronic', 'may', 'eyes', 'seemed', 'away', 'poor', 'shall', 'than', 'going', 'won', 'too', 'foundation', 'same', 'three', 'while', 'soon', 'rather', 'course', 'sure', 'good', 'felt', 'took', 'added', 'day', 'terms', 'take', 'another', 'getting', 'let', 'wish', 'set', 'half', 'old', 'please', 'under', 'till', 'find', 'minute', 'however', 'anything', 'hand', 'cried', 'even', 'ever', 'sort', 'words']\n"
     ]
    }
   ],
   "source": [
    "print(words)"
   ]
  },
  {
   "cell_type": "code",
   "execution_count": 28,
   "metadata": {},
   "outputs": [
    {
     "name": "stdout",
     "output_type": "stream",
     "text": [
      "[-9.46042091e-02  1.67843193e-01  2.20698640e-02  3.80826555e-02\n",
      "  1.20597795e-01 -1.72817960e-01  4.83689196e-02  3.31944287e-01\n",
      " -1.78171411e-01 -1.91899806e-01  5.86733781e-02 -1.65144384e-01\n",
      "  7.99766835e-03  8.02921876e-02 -9.68340691e-03 -9.25552323e-02\n",
      "  9.93064791e-02 -1.65539011e-01 -1.13511495e-01 -4.04452860e-01\n",
      "  5.52862957e-02  5.70755871e-03  1.82080686e-01 -9.14397538e-02\n",
      " -7.88783431e-02  6.89933598e-02 -1.13140523e-01 -8.30853954e-02\n",
      " -5.33089377e-02 -4.67131147e-03  1.06102653e-01  1.64519548e-02\n",
      "  1.19478896e-01 -1.01721622e-01 -6.88649714e-02  1.20297499e-01\n",
      " -8.81152879e-03 -2.03174800e-02 -5.66734225e-02 -1.84559554e-01\n",
      "  3.63938184e-03 -1.32384583e-01  5.45470975e-02  3.60108092e-02\n",
      "  3.89776640e-02  5.25485631e-03 -1.03932954e-01 -7.12553039e-02\n",
      "  9.93178040e-02  6.15452789e-02  1.46990880e-01 -1.19789310e-01\n",
      " -3.65008004e-02 -1.48743540e-02 -3.46573107e-02  1.52920289e-02\n",
      "  5.50306551e-02  3.09972325e-04 -9.09138098e-02  1.07684517e-02\n",
      "  1.32570909e-02  5.13723679e-03  7.08141997e-02 -5.64323664e-02\n",
      " -1.79402754e-01  1.46904543e-01  3.90688889e-02  2.50776380e-01\n",
      " -1.91332236e-01  2.19926745e-01 -7.10189492e-02  9.73327160e-02\n",
      "  1.47704557e-01  6.46300539e-02  2.44102836e-01 -1.98481772e-02\n",
      "  8.09142590e-02  3.06570996e-02 -1.71216711e-01  5.42779565e-02\n",
      " -1.42759666e-01  1.25921890e-01 -2.31062427e-01  1.89944446e-01\n",
      " -2.97625270e-02  2.02548262e-02  1.29321471e-01  8.78310800e-02\n",
      "  6.66199327e-02  4.33102548e-02  2.60827869e-01  1.35464236e-01\n",
      "  6.02141395e-02  5.98783866e-02  2.82315522e-01  1.01786070e-01\n",
      "  7.79562816e-02 -9.19771940e-02 -1.38363251e-02 -7.98293799e-02]\n"
     ]
    }
   ],
   "source": [
    "print(model.wv['tone'])"
   ]
  },
  {
   "cell_type": "code",
   "execution_count": 31,
   "metadata": {},
   "outputs": [],
   "source": [
    "X = model.wv[model.wv.index_to_key]"
   ]
  },
  {
   "cell_type": "code",
   "execution_count": 34,
   "metadata": {},
   "outputs": [],
   "source": [
    "pca = PCA(n_components=2)"
   ]
  },
  {
   "cell_type": "code",
   "execution_count": 35,
   "metadata": {},
   "outputs": [],
   "source": [
    "result = pca.fit_transform(X)"
   ]
  },
  {
   "cell_type": "code",
   "execution_count": 37,
   "metadata": {},
   "outputs": [
    {
     "data": {
      "image/png": "[encoded data removed]",
      "text/plain": [
       "<Figure size 432x288 with 1 Axes>"
      ]
     },
     "metadata": {
      "needs_background": "light"
     },
     "output_type": "display_data"
    }
   ],
   "source": [
    "plt.scatter(result[:, 0], result[:, 1])\n",
    "words = list(model.wv.index_to_key)\n",
    "for i, word in enumerate(words):\n",
    "   plt.annotate(word, xy=(result[i, 0], result[i, 1]))\n",
    "plt.show()"
   ]
  },
  {
   "cell_type": "code",
   "execution_count": null,
   "metadata": {},
   "outputs": [],
   "source": []
  },
  {
   "cell_type": "code",
   "execution_count": 39,
   "metadata": {},
   "outputs": [
    {
     "name": "stdout",
     "output_type": "stream",
     "text": [
      "[('queen', 0.7118193507194519)]\n"
     ]
    }
   ],
   "source": [
    "from gensim.models import KeyedVectors\n",
    "# load the google word2vec model\n",
    "filename = 'C:/Users/rajim/Downloads/GoogleNews-vectors-negative300.bin'\n",
    "model = KeyedVectors.load_word2vec_format(filename, binary=True)\n",
    "# calculate: (king - man) + woman = ?\n",
    "result = model.most_similar(positive=['woman', 'king'], negative=['man'], topn=1)\n",
    "print(result)"
   ]
  },
  {
   "cell_type": "code",
   "execution_count": 52,
   "metadata": {},
   "outputs": [
    {
     "name": "stdout",
     "output_type": "stream",
     "text": [
      "[('congregation', 0.5612159371376038)]\n"
     ]
    }
   ],
   "source": [
    "result = model.most_similar(positive=['church', 'school'], negative=['pupils'], topn=1)\n",
    "print(result)"
   ]
  },
  {
   "cell_type": "code",
   "execution_count": 54,
   "metadata": {},
   "outputs": [
    {
     "name": "stdout",
     "output_type": "stream",
     "text": [
      "[('Blacks', 0.635642409324646)]\n"
     ]
    }
   ],
   "source": [
    "result = model.most_similar(positive=['', ''], negative=[''], topn=1)\n",
    "print(result)"
   ]
  },
  {
   "cell_type": "code",
   "execution_count": null,
   "metadata": {},
   "outputs": [],
   "source": []
  }
 ],
 "metadata": {
  "kernelspec": {
   "display_name": "Python 3",
   "language": "python",
   "name": "python3"
  },
  "language_info": {
   "codemirror_mode": {
    "name": "ipython",
    "version": 3
   },
   "file_extension": ".py",
   "mimetype": "text/x-python",
   "name": "python",
   "nbconvert_exporter": "python",
   "pygments_lexer": "ipython3",
   "version": "3.7.6"
  }
 },
 "nbformat": 4,
 "nbformat_minor": 4
}
