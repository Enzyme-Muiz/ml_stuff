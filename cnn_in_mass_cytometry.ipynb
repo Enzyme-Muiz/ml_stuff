{
 "cells": [
  {
   "cell_type": "code",
   "execution_count": null,
   "metadata": {},
   "outputs": [],
   "source": [
    "###start here"
   ]
  },
  {
   "cell_type": "code",
   "execution_count": 15,
   "metadata": {},
   "outputs": [],
   "source": [
    "from tensorflow.keras import Sequential\n",
    "from tensorflow.keras.layers import Conv2D, Flatten, Dense, ZeroPadding2D, Dense, Activation, Dropout, Flatten, MaxPooling2D\n",
    "\n",
    "from tensorflow.keras.callbacks import EarlyStopping\n",
    "from tensorflow import keras\n",
    "import tensorflow as tf\n",
    "import matplotlib.pyplot as plt\n",
    "import numpy as np \n",
    "import pandas as pd\n",
    "from sklearn.model_selection import train_test_split\n",
    "from sklearn.utils import shuffle\n",
    "from sklearn import metrics \n",
    "from sklearn.metrics import classification_report, confusion_matrix, accuracy_score, roc_curve, auc, roc_auc_score\n",
    "import numpy as np\n",
    "from sklearn.model_selection import KFold,StratifiedKFold"
   ]
  },
  {
   "cell_type": "code",
   "execution_count": 2,
   "metadata": {},
   "outputs": [],
   "source": [
    "df=pd.read_csv('D:/rubbish/augmentation.csv', sep=',')"
   ]
  },
  {
   "cell_type": "code",
   "execution_count": 3,
   "metadata": {},
   "outputs": [],
   "source": [
    "##remove row_i\n",
    "df = df.drop(df.columns[0], axis=1)"
   ]
  },
  {
   "cell_type": "code",
   "execution_count": 4,
   "metadata": {},
   "outputs": [],
   "source": [
    "#df = df.sample(frac=1).reset_index(drop=True)"
   ]
  },
  {
   "cell_type": "code",
   "execution_count": 5,
   "metadata": {},
   "outputs": [
    {
     "data": {
      "text/plain": [
       "'label'"
      ]
     },
     "execution_count": 5,
     "metadata": {},
     "output_type": "execute_result"
    }
   ],
   "source": [
    "df.columns[0]"
   ]
  },
  {
   "cell_type": "code",
   "execution_count": 6,
   "metadata": {},
   "outputs": [],
   "source": [
    "label= df.iloc[: , 0]"
   ]
  },
  {
   "cell_type": "code",
   "execution_count": 7,
   "metadata": {},
   "outputs": [
    {
     "data": {
      "text/plain": [
       "0        0\n",
       "1        0\n",
       "2        0\n",
       "3        0\n",
       "4        0\n",
       "        ..\n",
       "15295    1\n",
       "15296    1\n",
       "15297    1\n",
       "15298    1\n",
       "15299    1\n",
       "Name: label, Length: 15300, dtype: int64"
      ]
     },
     "execution_count": 7,
     "metadata": {},
     "output_type": "execute_result"
    }
   ],
   "source": [
    "label"
   ]
  },
  {
   "cell_type": "code",
   "execution_count": 8,
   "metadata": {},
   "outputs": [
    {
     "data": {
      "text/plain": [
       "(15300, 4600)"
      ]
     },
     "execution_count": 8,
     "metadata": {},
     "output_type": "execute_result"
    }
   ],
   "source": [
    "df = df.drop(df.columns[0], axis=1)\n",
    "df.shape"
   ]
  },
  {
   "cell_type": "code",
   "execution_count": 9,
   "metadata": {},
   "outputs": [
    {
     "data": {
      "text/plain": [
       "(15300, 200, 23, 1)"
      ]
     },
     "execution_count": 9,
     "metadata": {},
     "output_type": "execute_result"
    }
   ],
   "source": [
    "#df = df.drop(df.columns[0], axis=1)\n",
    "#df = df.iloc[1:]\n",
    "df_ok= df.values.reshape(-1, 200, 23, 1)\n",
    "df_ok.shape"
   ]
  },
  {
   "cell_type": "code",
   "execution_count": 10,
   "metadata": {},
   "outputs": [],
   "source": [
    "label = label.to_numpy().astype('int32')\n",
    "one_hot_targets = np.eye(2)[label.reshape(-1)]"
   ]
  },
  {
   "cell_type": "code",
   "execution_count": 11,
   "metadata": {},
   "outputs": [],
   "source": [
    "df_ok = df_ok.astype('int32')"
   ]
  },
  {
   "cell_type": "code",
   "execution_count": 14,
   "metadata": {},
   "outputs": [
    {
     "data": {
      "text/plain": [
       "(15300, 200, 23, 1)"
      ]
     },
     "execution_count": 14,
     "metadata": {},
     "output_type": "execute_result"
    }
   ],
   "source": [
    "df_ok.shape"
   ]
  },
  {
   "cell_type": "code",
   "execution_count": null,
   "metadata": {},
   "outputs": [],
   "source": []
  },
  {
   "cell_type": "code",
   "execution_count": null,
   "metadata": {},
   "outputs": [],
   "source": []
  },
  {
   "cell_type": "code",
   "execution_count": 134,
   "metadata": {},
   "outputs": [],
   "source": [
    "#one_hot_targets\n",
    "#y_test1= np.argmax(one_hot_targets, axis=-1)\n"
   ]
  },
  {
   "cell_type": "code",
   "execution_count": 139,
   "metadata": {},
   "outputs": [],
   "source": [
    "#X_train, X_test, y_train, y_test = train_test_split(df_ok, one_hot_targets, test_size=0.2, stratify= one_hot_targets)\n",
    "X_train, X_test, y_train, y_test = train_test_split(df_ok, one_hot_targets, test_size=0.4, shuffle= False)"
   ]
  },
  {
   "cell_type": "code",
   "execution_count": 105,
   "metadata": {},
   "outputs": [],
   "source": [
    "#list(y_test)[2600]"
   ]
  },
  {
   "cell_type": "code",
   "execution_count": 106,
   "metadata": {},
   "outputs": [],
   "source": [
    "X_train, y_train= shuffle(X_train, y_train)"
   ]
  },
  {
   "cell_type": "code",
   "execution_count": 107,
   "metadata": {},
   "outputs": [
    {
     "data": {
      "text/plain": [
       "(7650, 2)"
      ]
     },
     "execution_count": 107,
     "metadata": {},
     "output_type": "execute_result"
    }
   ],
   "source": [
    "y_train.shape"
   ]
  },
  {
   "cell_type": "code",
   "execution_count": null,
   "metadata": {},
   "outputs": [],
   "source": []
  },
  {
   "cell_type": "code",
   "execution_count": null,
   "metadata": {},
   "outputs": [],
   "source": []
  },
  {
   "cell_type": "code",
   "execution_count": 108,
   "metadata": {},
   "outputs": [],
   "source": [
    "#df_ok= df_ok/255"
   ]
  },
  {
   "cell_type": "code",
   "execution_count": 17,
   "metadata": {},
   "outputs": [],
   "source": [
    "early_stopping_monitor = EarlyStopping(\n",
    "    monitor='val_loss',\n",
    "    min_delta=0,\n",
    "    patience=10,\n",
    "    verbose=0,\n",
    "    mode='auto',\n",
    "    baseline=None,\n",
    "    restore_best_weights=True\n",
    ")"
   ]
  },
  {
   "cell_type": "code",
   "execution_count": 18,
   "metadata": {},
   "outputs": [],
   "source": [
    "def model_cyto():\n",
    "    model = Sequential()\n",
    "    model.add(ZeroPadding2D((5, 2), input_shape=(200, 23, 1)))\n",
    "    # 1st Convolutional Layer\n",
    "    model.add(Conv2D(filters=5, kernel_size=(3, 2), strides=(8, 1), padding=\"valid\"))\n",
    "    model.add(Activation('relu'))\n",
    "    # Max Pooling\n",
    "    model.add(MaxPooling2D(pool_size=(3, 3), strides=(1, 1), padding='valid'))\n",
    "\n",
    "    # 2nd Convolutional Layer\n",
    "    model.add(Conv2D(filters=5, kernel_size=(3, 3), strides=(1, 1), padding='valid'))\n",
    "    model.add(Activation('relu'))\n",
    "    # Max Pooling\n",
    "    model.add(MaxPooling2D(pool_size=(3, 3), strides=(1, 1), padding='valid'))\n",
    "\n",
    "    # 3rd Convolutional Layer\n",
    "    model.add(Conv2D(filters=5, kernel_size=(3, 3), strides=(1, 1), padding='valid'))\n",
    "    model.add(Activation('relu'))\n",
    "\n",
    "    model.add(MaxPooling2D(pool_size=(3, 3), strides=(1, 1), padding='valid'))\n",
    "\n",
    "    # 4th Convolutional Layer\n",
    "    model.add(Conv2D(filters=5, kernel_size=(3, 3), strides=(1, 1), padding='valid'))\n",
    "    model.add(Activation('relu'))\n",
    "\n",
    "    # Max Pooling\n",
    "    model.add(MaxPooling2D(pool_size=(3, 3), strides=(2, 2), padding='valid'))\n",
    "\n",
    "    # Fully Connected layer\n",
    "    model.add(Flatten())\n",
    "    # 1st Fully Connected Layer\n",
    "    model.add(Dense(5))\n",
    "    model.add(Activation('relu'))\n",
    "    # Add Dropout to prevent overfitting\n",
    "\n",
    "\n",
    "    model.add(Dropout(0.3))\n",
    "\n",
    "    # Output Layer\n",
    "    # important to have dense 10, since we have 10 classes\n",
    "    model.add(Dense(2))\n",
    "    model.add(Activation('sigmoid'))\n",
    "\n",
    "    #model.summary()\n",
    "\n",
    "    model.compile(loss=keras.losses.binary_crossentropy, optimizer='adam', metrics=['accuracy'])\n",
    "    return model\n",
    "#model.fit(df_ok, one_hot_targets, validation_split=0.3, epochs= 15 , callbacks=[early_stopping_monitor], shuffle=True)\n",
    "#history= model.fit(X_train,y_train, validation_split=0.1, epochs=  5, callbacks=[early_stopping_monitor],shuffle=True).history"
   ]
  },
  {
   "cell_type": "code",
   "execution_count": 111,
   "metadata": {},
   "outputs": [
    {
     "name": "stdout",
     "output_type": "stream",
     "text": [
      "Model: \"sequential_10\"\n",
      "_________________________________________________________________\n",
      "Layer (type)                 Output Shape              Param #   \n",
      "=================================================================\n",
      "zero_padding2d_10 (ZeroPaddi (None, 210, 27, 1)        0         \n",
      "_________________________________________________________________\n",
      "conv2d_40 (Conv2D)           (None, 26, 26, 5)         35        \n",
      "_________________________________________________________________\n",
      "activation_60 (Activation)   (None, 26, 26, 5)         0         \n",
      "_________________________________________________________________\n",
      "max_pooling2d_40 (MaxPooling (None, 24, 24, 5)         0         \n",
      "_________________________________________________________________\n",
      "conv2d_41 (Conv2D)           (None, 22, 22, 5)         230       \n",
      "_________________________________________________________________\n",
      "activation_61 (Activation)   (None, 22, 22, 5)         0         \n",
      "_________________________________________________________________\n",
      "max_pooling2d_41 (MaxPooling (None, 20, 20, 5)         0         \n",
      "_________________________________________________________________\n",
      "conv2d_42 (Conv2D)           (None, 18, 18, 5)         230       \n",
      "_________________________________________________________________\n",
      "activation_62 (Activation)   (None, 18, 18, 5)         0         \n",
      "_________________________________________________________________\n",
      "max_pooling2d_42 (MaxPooling (None, 16, 16, 5)         0         \n",
      "_________________________________________________________________\n",
      "conv2d_43 (Conv2D)           (None, 14, 14, 5)         230       \n",
      "_________________________________________________________________\n",
      "activation_63 (Activation)   (None, 14, 14, 5)         0         \n",
      "_________________________________________________________________\n",
      "max_pooling2d_43 (MaxPooling (None, 6, 6, 5)           0         \n",
      "_________________________________________________________________\n",
      "flatten_10 (Flatten)         (None, 180)               0         \n",
      "_________________________________________________________________\n",
      "dense_20 (Dense)             (None, 5)                 905       \n",
      "_________________________________________________________________\n",
      "activation_64 (Activation)   (None, 5)                 0         \n",
      "_________________________________________________________________\n",
      "dropout_10 (Dropout)         (None, 5)                 0         \n",
      "_________________________________________________________________\n",
      "dense_21 (Dense)             (None, 2)                 12        \n",
      "_________________________________________________________________\n",
      "activation_65 (Activation)   (None, 2)                 0         \n",
      "=================================================================\n",
      "Total params: 1,642\n",
      "Trainable params: 1,642\n",
      "Non-trainable params: 0\n",
      "_________________________________________________________________\n"
     ]
    }
   ],
   "source": [
    "model_cyto().summary()"
   ]
  },
  {
   "cell_type": "code",
   "execution_count": 112,
   "metadata": {},
   "outputs": [
    {
     "name": "stdout",
     "output_type": "stream",
     "text": [
      "Epoch 1/30\n",
      "216/216 [==============================] - 8s 32ms/step - loss: 0.6820 - accuracy: 0.5622 - val_loss: 0.5740 - val_accuracy: 0.7098\n",
      "Epoch 2/30\n",
      "216/216 [==============================] - 7s 34ms/step - loss: 0.5807 - accuracy: 0.6900 - val_loss: 0.5664 - val_accuracy: 0.6719\n",
      "Epoch 3/30\n",
      "216/216 [==============================] - 7s 34ms/step - loss: 0.5294 - accuracy: 0.7088 - val_loss: 0.5024 - val_accuracy: 0.6928\n",
      "Epoch 4/30\n",
      "216/216 [==============================] - 8s 36ms/step - loss: 0.4648 - accuracy: 0.7390 - val_loss: 0.3760 - val_accuracy: 0.8235\n",
      "Epoch 5/30\n",
      "216/216 [==============================] - 8s 39ms/step - loss: 0.3769 - accuracy: 0.8257 - val_loss: 0.2609 - val_accuracy: 0.8993\n",
      "Epoch 6/30\n",
      "216/216 [==============================] - 8s 37ms/step - loss: 0.3110 - accuracy: 0.8666 - val_loss: 0.1960 - val_accuracy: 0.9190\n",
      "Epoch 7/30\n",
      "216/216 [==============================] - 8s 38ms/step - loss: 0.2748 - accuracy: 0.8792 - val_loss: 0.1749 - val_accuracy: 0.9229\n",
      "Epoch 8/30\n",
      "216/216 [==============================] - 8s 39ms/step - loss: 0.2718 - accuracy: 0.8772 - val_loss: 0.1602 - val_accuracy: 0.9333\n",
      "Epoch 9/30\n",
      "216/216 [==============================] - 8s 39ms/step - loss: 0.2425 - accuracy: 0.8903 - val_loss: 0.1355 - val_accuracy: 0.9386\n",
      "Epoch 10/30\n",
      "216/216 [==============================] - 8s 39ms/step - loss: 0.2402 - accuracy: 0.8915 - val_loss: 0.1141 - val_accuracy: 0.9503\n",
      "Epoch 11/30\n",
      "216/216 [==============================] - 8s 39ms/step - loss: 0.2044 - accuracy: 0.9137 - val_loss: 0.0920 - val_accuracy: 0.9712\n",
      "Epoch 12/30\n",
      "216/216 [==============================] - 9s 39ms/step - loss: 0.1871 - accuracy: 0.9216 - val_loss: 0.0919 - val_accuracy: 0.9608\n",
      "Epoch 13/30\n",
      "216/216 [==============================] - 9s 39ms/step - loss: 0.2027 - accuracy: 0.9170 - val_loss: 0.0991 - val_accuracy: 0.9647\n",
      "Epoch 14/30\n",
      "216/216 [==============================] - 9s 40ms/step - loss: 0.1838 - accuracy: 0.9249 - val_loss: 0.0722 - val_accuracy: 0.9804\n",
      "Epoch 15/30\n",
      "216/216 [==============================] - 9s 40ms/step - loss: 0.1672 - accuracy: 0.9328 - val_loss: 0.0525 - val_accuracy: 0.9830\n",
      "Epoch 16/30\n",
      "216/216 [==============================] - 9s 40ms/step - loss: 0.1855 - accuracy: 0.9214 - val_loss: 0.0420 - val_accuracy: 0.9843\n",
      "Epoch 17/30\n",
      "216/216 [==============================] - 8s 39ms/step - loss: 0.1561 - accuracy: 0.9366 - val_loss: 0.0325 - val_accuracy: 0.9935\n",
      "Epoch 18/30\n",
      "216/216 [==============================] - 9s 39ms/step - loss: 0.1661 - accuracy: 0.9326 - val_loss: 0.0398 - val_accuracy: 0.9895\n",
      "Epoch 19/30\n",
      "216/216 [==============================] - 9s 41ms/step - loss: 0.1432 - accuracy: 0.9387 - val_loss: 0.0375 - val_accuracy: 0.9895\n",
      "Epoch 20/30\n",
      "216/216 [==============================] - 9s 40ms/step - loss: 0.1454 - accuracy: 0.9373 - val_loss: 0.0367 - val_accuracy: 0.9882\n",
      "Epoch 21/30\n",
      "216/216 [==============================] - 9s 40ms/step - loss: 0.1494 - accuracy: 0.9358 - val_loss: 0.0260 - val_accuracy: 0.9948\n",
      "Epoch 22/30\n",
      "216/216 [==============================] - 9s 40ms/step - loss: 0.1533 - accuracy: 0.9344 - val_loss: 0.0323 - val_accuracy: 0.9895\n",
      "Epoch 23/30\n",
      "216/216 [==============================] - 11s 49ms/step - loss: 0.1436 - accuracy: 0.9388 - val_loss: 0.0444 - val_accuracy: 0.9791\n",
      "Epoch 24/30\n",
      "216/216 [==============================] - 9s 41ms/step - loss: 0.1414 - accuracy: 0.9388 - val_loss: 0.0264 - val_accuracy: 0.9922\n",
      "Epoch 25/30\n",
      "216/216 [==============================] - 9s 40ms/step - loss: 0.1444 - accuracy: 0.9345 - val_loss: 0.0292 - val_accuracy: 0.9908\n",
      "Epoch 26/30\n",
      "216/216 [==============================] - 9s 40ms/step - loss: 0.1414 - accuracy: 0.9383 - val_loss: 0.0277 - val_accuracy: 0.9895\n",
      "Epoch 27/30\n",
      "216/216 [==============================] - 9s 40ms/step - loss: 0.1331 - accuracy: 0.9411 - val_loss: 0.0266 - val_accuracy: 0.9895\n",
      "Epoch 28/30\n",
      "216/216 [==============================] - 9s 40ms/step - loss: 0.1428 - accuracy: 0.9362 - val_loss: 0.0280 - val_accuracy: 0.9922\n",
      "Epoch 29/30\n",
      "216/216 [==============================] - 9s 40ms/step - loss: 0.1310 - accuracy: 0.9497 - val_loss: 0.0183 - val_accuracy: 0.9948\n",
      "Epoch 30/30\n",
      "216/216 [==============================] - 9s 40ms/step - loss: 0.1284 - accuracy: 0.9479 - val_loss: 0.0265 - val_accuracy: 0.9869\n"
     ]
    }
   ],
   "source": [
    "history= model_cyto().fit(X_train,y_train, validation_split=0.1, epochs=  30, callbacks=[early_stopping_monitor],shuffle=True).history"
   ]
  },
  {
   "cell_type": "code",
   "execution_count": null,
   "metadata": {},
   "outputs": [],
   "source": []
  },
  {
   "cell_type": "code",
   "execution_count": 113,
   "metadata": {},
   "outputs": [
    {
     "data": {
      "text/plain": [
       "<matplotlib.legend.Legend at 0x18dbe7ad3c8>"
      ]
     },
     "execution_count": 113,
     "metadata": {},
     "output_type": "execute_result"
    },
    {
     "data": {
      "image/png": "[encoded data removed]",
      "text/plain": [
       "<Figure size 432x288 with 1 Axes>"
      ]
     },
     "metadata": {
      "needs_background": "light"
     },
     "output_type": "display_data"
    }
   ],
   "source": [
    "plt.plot(history['accuracy'], label=\"training\")\n",
    "plt.plot(history['val_accuracy'], label= \"validation\")\n",
    "plt.xlabel('epoch') \n",
    "plt.ylabel('accuracy') \n",
    "plt.legend(loc=\"upper left\")"
   ]
  },
  {
   "cell_type": "code",
   "execution_count": 114,
   "metadata": {},
   "outputs": [
    {
     "name": "stdout",
     "output_type": "stream",
     "text": [
      "0.7860130718954248\n",
      "              precision    recall  f1-score   support\n",
      "\n",
      "           0       0.86      0.71      0.78      4050\n",
      "           1       0.73      0.87      0.79      3600\n",
      "\n",
      "    accuracy                           0.79      7650\n",
      "   macro avg       0.80      0.79      0.79      7650\n",
      "weighted avg       0.80      0.79      0.79      7650\n",
      "\n"
     ]
    }
   ],
   "source": [
    "y_pred = model.predict(X_test)\n",
    "y_pred= np.argmax(y_pred, axis=-1)\n",
    "y_test1= np.argmax(y_test, axis=-1)\n",
    "\n",
    "print(metrics.accuracy_score(y_test1, y_pred))\n",
    "confusion_matrix(y_test1, y_pred)\n",
    "print(classification_report(y_test1, y_pred))"
   ]
  },
  {
   "cell_type": "code",
   "execution_count": 115,
   "metadata": {},
   "outputs": [
    {
     "data": {
      "image/png": "[encoded data removed]",
      "text/plain": [
       "<Figure size 432x288 with 1 Axes>"
      ]
     },
     "metadata": {
      "needs_background": "light"
     },
     "output_type": "display_data"
    }
   ],
   "source": [
    "#y_pred = model.predict(X_test)\n",
    "y_test_new1= np.array(y_test1)\n",
    "y_pred_new1= np.array(y_pred)\n",
    "fpr, tpr, thresholds_keras = roc_curve(y_test1, y_pred)\n",
    "\n",
    "\n",
    "def plot_roc_curve(fpr,tpr): \n",
    "  plt.plot(fpr,tpr) \n",
    "  plt.axis([0,1,0,1]) \n",
    "  plt.xlabel('False Positive Rate') \n",
    "  plt.ylabel('True Positive Rate') \n",
    "  plt.show()    \n",
    "  \n",
    "plot_roc_curve (fpr,tpr) \n",
    "auc_score=roc_auc_score(y_test1,y_pred)"
   ]
  },
  {
   "cell_type": "code",
   "execution_count": 116,
   "metadata": {},
   "outputs": [
    {
     "name": "stdout",
     "output_type": "stream",
     "text": [
      "0.7909104938271604\n"
     ]
    }
   ],
   "source": [
    "print(auc_score)"
   ]
  },
  {
   "cell_type": "code",
   "execution_count": null,
   "metadata": {},
   "outputs": [],
   "source": []
  },
  {
   "cell_type": "code",
   "execution_count": null,
   "metadata": {},
   "outputs": [],
   "source": []
  },
  {
   "cell_type": "code",
   "execution_count": null,
   "metadata": {},
   "outputs": [],
   "source": []
  },
  {
   "cell_type": "code",
   "execution_count": null,
   "metadata": {},
   "outputs": [],
   "source": []
  },
  {
   "cell_type": "code",
   "execution_count": 29,
   "metadata": {},
   "outputs": [],
   "source": [
    "model.save(\"D:/models_jawad/model_mut_vs_unmut_no_resnet.h5\")"
   ]
  },
  {
   "cell_type": "code",
   "execution_count": null,
   "metadata": {},
   "outputs": [],
   "source": []
  },
  {
   "cell_type": "code",
   "execution_count": null,
   "metadata": {},
   "outputs": [],
   "source": []
  },
  {
   "cell_type": "code",
   "execution_count": null,
   "metadata": {},
   "outputs": [],
   "source": []
  },
  {
   "cell_type": "code",
   "execution_count": 21,
   "metadata": {},
   "outputs": [],
   "source": [
    "input1 = tf.keras.layers.Input(shape=(200, 23, 1))\n",
    "x1= tf.keras.layers.ZeroPadding2D(padding=(5, 2))(input1)\n",
    "#x1 = tf.keras.layers.Dense(32, activation='relu')(input1)\n",
    "x1= tf.keras.layers.Conv2D(5, (3, 2), activation='relu',strides=(8, 1), padding=\"valid\")(x1)\n",
    "x5=x1\n",
    "x1 = tf.keras.layers.Conv2D(1, (10,10), activation='relu', strides=(1, 1), padding=\"same\")(x1)\n",
    "x1= tf.keras.layers.MaxPooling2D((3, 3), strides=(1, 1), padding='same')(x1)\n",
    "x1 = tf.keras.layers.Add()([x1, x5])\n",
    "x2=x1\n",
    "x1 = tf.keras.layers.Conv2D(5, (10, 10),activation='relu', strides=(1, 1), padding=\"same\")(x1)\n",
    "x1 = tf.keras.layers.Conv2D(1, (10, 10), activation='relu', strides=(1, 1), padding=\"same\")(x1)\n",
    "x1= tf.keras.layers.MaxPooling2D((3, 3), strides=(1, 1), padding='same')(x1)\n",
    "x1 = tf.keras.layers.Add()([x1, x2])\n",
    "x2=x1\n",
    "x1 = tf.keras.layers.Conv2D(5, (10, 10), activation='relu', strides=(1, 1), padding=\"same\")(x1)\n",
    "x1 = tf.keras.layers.Conv2D(1, (10, 10), activation='relu', strides=(1, 1), padding=\"same\")(x1)\n",
    "x1= tf.keras.layers.MaxPooling2D((3, 3), strides=(1, 1), padding='same')(x1)\n",
    "x1 = tf.keras.layers.Add()([x1, x2])\n",
    "x1= tf.keras.layers.Flatten()(x1)\n",
    "#1 = tf.keras.layers.Dense(10, activation='sigmoid')(x1)\n",
    "x1= tf.keras.layers.Dropout(0.1)(x1)\n",
    "x1 = tf.keras.layers.Dense(2, activation='sigmoid')(x1)\n",
    "model = tf.keras.models.Model(inputs= input1, outputs=x1)\n",
    "model.compile(loss='binary_crossentropy', optimizer='adam', metrics=[\"accuracy\"])\n",
    "es = EarlyStopping(\n",
    "    monitor='val_loss',\n",
    "    min_delta=0,\n",
    "    patience=13,\n",
    "    verbose=0,\n",
    "    mode='auto',\n",
    "    baseline=None,\n",
    "    restore_best_weights=True\n",
    ")"
   ]
  },
  {
   "cell_type": "code",
   "execution_count": 22,
   "metadata": {},
   "outputs": [
    {
     "name": "stdout",
     "output_type": "stream",
     "text": [
      "Epoch 1/30\n",
      "605/605 [==============================] - 91s 148ms/step - loss: 0.5458 - accuracy: 0.7350 - val_loss: 0.2518 - val_accuracy: 0.8914\n",
      "Epoch 2/30\n",
      "605/605 [==============================] - 93s 154ms/step - loss: 0.1696 - accuracy: 0.9474 - val_loss: 0.1082 - val_accuracy: 0.9539\n",
      "Epoch 3/30\n",
      "605/605 [==============================] - 93s 153ms/step - loss: 0.0507 - accuracy: 0.9862 - val_loss: 0.0976 - val_accuracy: 0.9598\n",
      "Epoch 4/30\n",
      "605/605 [==============================] - 100s 165ms/step - loss: 0.0546 - accuracy: 0.9807 - val_loss: 0.0146 - val_accuracy: 0.9970\n",
      "Epoch 5/30\n",
      "605/605 [==============================] - 93s 154ms/step - loss: 0.0313 - accuracy: 0.9913 - val_loss: 0.0182 - val_accuracy: 0.9985\n",
      "Epoch 6/30\n",
      "605/605 [==============================] - 94s 155ms/step - loss: 0.0169 - accuracy: 0.9960 - val_loss: 0.0189 - val_accuracy: 0.9911\n",
      "Epoch 7/30\n",
      "605/605 [==============================] - 102s 169ms/step - loss: 0.0141 - accuracy: 0.9969 - val_loss: 0.0138 - val_accuracy: 0.9985\n",
      "Epoch 8/30\n",
      "605/605 [==============================] - 90s 148ms/step - loss: 0.0142 - accuracy: 0.9955 - val_loss: 0.0144 - val_accuracy: 0.9955\n",
      "Epoch 9/30\n",
      "605/605 [==============================] - 93s 153ms/step - loss: 0.0236 - accuracy: 0.9932 - val_loss: 0.0159 - val_accuracy: 0.9970\n",
      "Epoch 10/30\n",
      "605/605 [==============================] - 101s 167ms/step - loss: 0.0130 - accuracy: 0.9948 - val_loss: 0.0077 - val_accuracy: 0.9985\n",
      "Epoch 11/30\n",
      "605/605 [==============================] - 101s 167ms/step - loss: 0.0058 - accuracy: 0.9990 - val_loss: 0.0249 - val_accuracy: 0.9926\n",
      "Epoch 12/30\n",
      "605/605 [==============================] - 104s 172ms/step - loss: 0.0130 - accuracy: 0.9963 - val_loss: 0.0870 - val_accuracy: 0.9732\n",
      "Epoch 13/30\n",
      "605/605 [==============================] - 128s 212ms/step - loss: 0.0123 - accuracy: 0.9970 - val_loss: 0.0181 - val_accuracy: 0.9955\n",
      "Epoch 14/30\n",
      "605/605 [==============================] - 112s 184ms/step - loss: 0.0088 - accuracy: 0.9968 - val_loss: 0.0027 - val_accuracy: 1.0000\n",
      "Epoch 15/30\n",
      "605/605 [==============================] - 115s 190ms/step - loss: 0.0076 - accuracy: 0.9978 - val_loss: 0.0254 - val_accuracy: 0.9940\n",
      "Epoch 16/30\n",
      "605/605 [==============================] - 104s 172ms/step - loss: 0.0057 - accuracy: 0.9990 - val_loss: 0.0097 - val_accuracy: 0.9970\n",
      "Epoch 17/30\n",
      "605/605 [==============================] - 116s 192ms/step - loss: 0.0026 - accuracy: 0.9998 - val_loss: 0.0022 - val_accuracy: 1.0000\n",
      "Epoch 18/30\n",
      "605/605 [==============================] - 110s 182ms/step - loss: 0.0035 - accuracy: 0.9993 - val_loss: 0.0616 - val_accuracy: 0.9836\n",
      "Epoch 19/30\n",
      "605/605 [==============================] - 110s 181ms/step - loss: 0.0132 - accuracy: 0.9957 - val_loss: 0.0053 - val_accuracy: 0.9985\n",
      "Epoch 20/30\n",
      "605/605 [==============================] - 113s 186ms/step - loss: 0.0059 - accuracy: 0.9988 - val_loss: 0.0016 - val_accuracy: 1.0000\n",
      "Epoch 21/30\n",
      "605/605 [==============================] - 156s 258ms/step - loss: 0.0147 - accuracy: 0.9969 - val_loss: 0.0439 - val_accuracy: 0.9836\n",
      "Epoch 22/30\n",
      "605/605 [==============================] - 128s 212ms/step - loss: 0.0086 - accuracy: 0.9970 - val_loss: 0.0034 - val_accuracy: 1.0000\n",
      "Epoch 23/30\n",
      "605/605 [==============================] - 110s 182ms/step - loss: 0.0028 - accuracy: 0.9994 - val_loss: 0.0080 - val_accuracy: 0.9955\n",
      "Epoch 24/30\n",
      "605/605 [==============================] - 137s 227ms/step - loss: 0.0028 - accuracy: 0.9992 - val_loss: 0.0017 - val_accuracy: 1.0000\n",
      "Epoch 25/30\n",
      "605/605 [==============================] - 135s 224ms/step - loss: 0.0043 - accuracy: 0.9991 - val_loss: 0.0412 - val_accuracy: 0.9881\n",
      "Epoch 26/30\n",
      "605/605 [==============================] - 149s 246ms/step - loss: 0.0224 - accuracy: 0.9942 - val_loss: 0.0046 - val_accuracy: 1.0000\n",
      "Epoch 27/30\n",
      "605/605 [==============================] - 129s 212ms/step - loss: 0.0043 - accuracy: 0.9990 - val_loss: 0.0018 - val_accuracy: 1.0000\n",
      "Epoch 28/30\n",
      "605/605 [==============================] - 127s 209ms/step - loss: 9.3451e-04 - accuracy: 1.0000 - val_loss: 0.0066 - val_accuracy: 0.9955\n",
      "Epoch 29/30\n",
      "605/605 [==============================] - 148s 244ms/step - loss: 0.0116 - accuracy: 0.9983 - val_loss: 0.0047 - val_accuracy: 0.9985\n",
      "Epoch 30/30\n",
      "605/605 [==============================] - 140s 231ms/step - loss: 8.9044e-04 - accuracy: 1.0000 - val_loss: 0.0047 - val_accuracy: 0.9985\n"
     ]
    }
   ],
   "source": [
    "history= model.fit(X_train, y_train, epochs=30, callbacks=[es], validation_split=0.1, batch_size=10, shuffle=True).history"
   ]
  },
  {
   "cell_type": "code",
   "execution_count": 23,
   "metadata": {},
   "outputs": [
    {
     "name": "stdout",
     "output_type": "stream",
     "text": [
      "0.6791666666666667\n",
      "              precision    recall  f1-score   support\n",
      "\n",
      "           0       0.56      0.99      0.71       680\n",
      "           1       0.99      0.47      0.63      1000\n",
      "\n",
      "    accuracy                           0.68      1680\n",
      "   macro avg       0.77      0.73      0.67      1680\n",
      "weighted avg       0.82      0.68      0.67      1680\n",
      "\n"
     ]
    }
   ],
   "source": [
    "y_pred = model.predict(X_test)\n",
    "y_pred= np.argmax(y_pred, axis=-1)\n",
    "y_test1= np.argmax(y_test, axis=-1)\n",
    "\n",
    "print(metrics.accuracy_score(y_test1, y_pred))\n",
    "confusion_matrix(y_test1, y_pred)\n",
    "print(classification_report(y_test1, y_pred))"
   ]
  },
  {
   "cell_type": "code",
   "execution_count": 24,
   "metadata": {},
   "outputs": [],
   "source": [
    "model.save(\"D:/models_jawad/model_mut_vs_unmut_no_resnet1.h5\")"
   ]
  },
  {
   "cell_type": "code",
   "execution_count": 43,
   "metadata": {},
   "outputs": [],
   "source": [
    "######prediction"
   ]
  },
  {
   "cell_type": "code",
   "execution_count": 44,
   "metadata": {},
   "outputs": [],
   "source": [
    "#model = keras.models.load_model('D:/models_jawad/model_mut_vs_unmut_no_resnet1.h5')\n",
    "#model.save(\"D:/models_jawad/model_mut_vs_unmut_no_resnet1.h5\")"
   ]
  },
  {
   "cell_type": "code",
   "execution_count": 91,
   "metadata": {},
   "outputs": [],
   "source": [
    "\n",
    "df1=pd.read_csv('D:/rubbish/test_this.csv', sep=',')\n",
    "df1 = df1.drop(df1.columns[0], axis=1)\n",
    "df_ok1= df1.values.reshape(-1, 200, 23, 1)\n",
    "df_ok1.shape\n",
    "df_ok1 = df_ok1.astype('int32')"
   ]
  },
  {
   "cell_type": "code",
   "execution_count": 92,
   "metadata": {},
   "outputs": [],
   "source": [
    "y_pred1= model.predict(df_ok1)"
   ]
  },
  {
   "cell_type": "code",
   "execution_count": 93,
   "metadata": {},
   "outputs": [],
   "source": [
    "y_pred1= np.argmax(y_pred1, axis=-1)"
   ]
  },
  {
   "cell_type": "code",
   "execution_count": 94,
   "metadata": {},
   "outputs": [
    {
     "data": {
      "text/plain": [
       "array([0, 0, 0, 0, 0, 0, 0, 0, 0, 0, 0, 0, 0, 0, 0, 0, 0, 0, 0, 0, 1, 1,\n",
       "       1, 1, 1, 1, 1, 1, 1, 1, 1, 1, 1, 1, 1, 1, 1, 1, 1, 1, 0, 0, 0, 0,\n",
       "       0, 0, 0, 0, 0, 0, 0, 0, 0, 0, 0, 0, 0, 0, 0, 0, 0, 0, 0, 1, 0, 0,\n",
       "       0, 0, 1, 0, 0, 1, 0, 1, 1, 1, 0, 0, 1, 0, 1, 0, 0, 0, 1, 1, 0, 0,\n",
       "       1, 1, 0, 0, 1, 1, 1, 0, 0, 0, 0, 0, 1, 1, 1, 1, 1, 1, 1, 0, 0, 1,\n",
       "       1, 1, 0, 0, 1, 1, 1, 1, 1, 1, 0, 1, 1, 1, 1, 1, 1, 1, 1, 1, 1, 1,\n",
       "       1, 1, 1, 1, 1, 1, 1, 1, 1, 1, 0, 1, 1, 0, 0, 1, 1, 1, 1, 1, 1, 1,\n",
       "       1, 0, 0, 1, 0, 1, 1, 1, 1, 1, 1, 1, 1, 1, 1, 1, 1, 1, 1, 1, 1, 1,\n",
       "       1, 1, 1, 1, 1, 1, 1, 1, 1, 1, 1, 1, 1, 1, 1, 1, 1, 1, 1, 1, 1, 1,\n",
       "       1, 1, 1, 1, 1, 1, 1, 1, 1, 1, 1, 1, 1, 1, 1, 1, 1, 1, 1, 1, 1, 1],\n",
       "      dtype=int64)"
      ]
     },
     "execution_count": 94,
     "metadata": {},
     "output_type": "execute_result"
    }
   ],
   "source": [
    "y_pred1"
   ]
  },
  {
   "cell_type": "code",
   "execution_count": 95,
   "metadata": {},
   "outputs": [
    {
     "data": {
      "text/plain": [
       "array([1, 1, 1, 1, 1, 1, 1, 1, 1, 1, 1, 1, 1, 1, 1, 1, 1, 1, 1, 1],\n",
       "      dtype=int64)"
      ]
     },
     "execution_count": 95,
     "metadata": {},
     "output_type": "execute_result"
    }
   ],
   "source": [
    "y_pred1[200:220]"
   ]
  },
  {
   "cell_type": "code",
   "execution_count": null,
   "metadata": {},
   "outputs": [],
   "source": []
  },
  {
   "cell_type": "code",
   "execution_count": null,
   "metadata": {},
   "outputs": [],
   "source": []
  },
  {
   "cell_type": "code",
   "execution_count": null,
   "metadata": {},
   "outputs": [],
   "source": []
  },
  {
   "cell_type": "code",
   "execution_count": null,
   "metadata": {},
   "outputs": [],
   "source": []
  },
  {
   "cell_type": "code",
   "execution_count": null,
   "metadata": {},
   "outputs": [],
   "source": []
  },
  {
   "cell_type": "code",
   "execution_count": null,
   "metadata": {},
   "outputs": [],
   "source": []
  },
  {
   "cell_type": "code",
   "execution_count": null,
   "metadata": {},
   "outputs": [],
   "source": []
  },
  {
   "cell_type": "code",
   "execution_count": null,
   "metadata": {},
   "outputs": [],
   "source": []
  },
  {
   "cell_type": "code",
   "execution_count": null,
   "metadata": {},
   "outputs": [],
   "source": []
  },
  {
   "cell_type": "code",
   "execution_count": 33,
   "metadata": {},
   "outputs": [
    {
     "ename": "TypeError",
     "evalue": "The added layer must be an instance of class Layer. Found: <keras.layers.core.Activation object at 0x0000022860E17808>",
     "output_type": "error",
     "traceback": [
      "\u001b[1;31m---------------------------------------------------------------------------\u001b[0m",
      "\u001b[1;31mTypeError\u001b[0m                                 Traceback (most recent call last)",
      "\u001b[1;32m<ipython-input-33-7b2f0100000e>\u001b[0m in \u001b[0;36m<module>\u001b[1;34m\u001b[0m\n\u001b[0;32m      5\u001b[0m \u001b[1;33m\u001b[0m\u001b[0m\n\u001b[0;32m      6\u001b[0m \u001b[1;33m\u001b[0m\u001b[0m\n\u001b[1;32m----> 7\u001b[1;33m \u001b[0mmodel\u001b[0m\u001b[1;33m.\u001b[0m\u001b[0madd\u001b[0m\u001b[1;33m(\u001b[0m\u001b[0mActivation\u001b[0m\u001b[1;33m(\u001b[0m\u001b[1;34m'relu'\u001b[0m\u001b[1;33m)\u001b[0m\u001b[1;33m)\u001b[0m\u001b[1;33m\u001b[0m\u001b[1;33m\u001b[0m\u001b[0m\n\u001b[0m\u001b[0;32m      8\u001b[0m \u001b[1;31m# Max Pooling\u001b[0m\u001b[1;33m\u001b[0m\u001b[1;33m\u001b[0m\u001b[1;33m\u001b[0m\u001b[0m\n\u001b[0;32m      9\u001b[0m \u001b[0mmodel\u001b[0m\u001b[1;33m.\u001b[0m\u001b[0madd\u001b[0m\u001b[1;33m(\u001b[0m\u001b[0mMaxPooling2D\u001b[0m\u001b[1;33m(\u001b[0m\u001b[0mpool_size\u001b[0m\u001b[1;33m=\u001b[0m\u001b[1;33m(\u001b[0m\u001b[1;36m3\u001b[0m\u001b[1;33m,\u001b[0m \u001b[1;36m3\u001b[0m\u001b[1;33m)\u001b[0m\u001b[1;33m,\u001b[0m \u001b[0mstrides\u001b[0m\u001b[1;33m=\u001b[0m\u001b[1;33m(\u001b[0m\u001b[1;36m1\u001b[0m\u001b[1;33m,\u001b[0m \u001b[1;36m1\u001b[0m\u001b[1;33m)\u001b[0m\u001b[1;33m,\u001b[0m \u001b[0mpadding\u001b[0m\u001b[1;33m=\u001b[0m\u001b[1;34m'valid'\u001b[0m\u001b[1;33m)\u001b[0m\u001b[1;33m)\u001b[0m\u001b[1;33m\u001b[0m\u001b[1;33m\u001b[0m\u001b[0m\n",
      "\u001b[1;32m~\\Anaconda3\\lib\\site-packages\\tensorflow\\python\\training\\tracking\\base.py\u001b[0m in \u001b[0;36m_method_wrapper\u001b[1;34m(self, *args, **kwargs)\u001b[0m\n\u001b[0;32m    515\u001b[0m     \u001b[0mself\u001b[0m\u001b[1;33m.\u001b[0m\u001b[0m_self_setattr_tracking\u001b[0m \u001b[1;33m=\u001b[0m \u001b[1;32mFalse\u001b[0m  \u001b[1;31m# pylint: disable=protected-access\u001b[0m\u001b[1;33m\u001b[0m\u001b[1;33m\u001b[0m\u001b[0m\n\u001b[0;32m    516\u001b[0m     \u001b[1;32mtry\u001b[0m\u001b[1;33m:\u001b[0m\u001b[1;33m\u001b[0m\u001b[1;33m\u001b[0m\u001b[0m\n\u001b[1;32m--> 517\u001b[1;33m       \u001b[0mresult\u001b[0m \u001b[1;33m=\u001b[0m \u001b[0mmethod\u001b[0m\u001b[1;33m(\u001b[0m\u001b[0mself\u001b[0m\u001b[1;33m,\u001b[0m \u001b[1;33m*\u001b[0m\u001b[0margs\u001b[0m\u001b[1;33m,\u001b[0m \u001b[1;33m**\u001b[0m\u001b[0mkwargs\u001b[0m\u001b[1;33m)\u001b[0m\u001b[1;33m\u001b[0m\u001b[1;33m\u001b[0m\u001b[0m\n\u001b[0m\u001b[0;32m    518\u001b[0m     \u001b[1;32mfinally\u001b[0m\u001b[1;33m:\u001b[0m\u001b[1;33m\u001b[0m\u001b[1;33m\u001b[0m\u001b[0m\n\u001b[0;32m    519\u001b[0m       \u001b[0mself\u001b[0m\u001b[1;33m.\u001b[0m\u001b[0m_self_setattr_tracking\u001b[0m \u001b[1;33m=\u001b[0m \u001b[0mprevious_value\u001b[0m  \u001b[1;31m# pylint: disable=protected-access\u001b[0m\u001b[1;33m\u001b[0m\u001b[1;33m\u001b[0m\u001b[0m\n",
      "\u001b[1;32m~\\Anaconda3\\lib\\site-packages\\tensorflow\\python\\keras\\engine\\sequential.py\u001b[0m in \u001b[0;36madd\u001b[1;34m(self, layer)\u001b[0m\n\u001b[0;32m    182\u001b[0m       raise TypeError('The added layer must be '\n\u001b[0;32m    183\u001b[0m                       \u001b[1;34m'an instance of class Layer. '\u001b[0m\u001b[1;33m\u001b[0m\u001b[1;33m\u001b[0m\u001b[0m\n\u001b[1;32m--> 184\u001b[1;33m                       'Found: ' + str(layer))\n\u001b[0m\u001b[0;32m    185\u001b[0m \u001b[1;33m\u001b[0m\u001b[0m\n\u001b[0;32m    186\u001b[0m     \u001b[0mtf_utils\u001b[0m\u001b[1;33m.\u001b[0m\u001b[0massert_no_legacy_layers\u001b[0m\u001b[1;33m(\u001b[0m\u001b[1;33m[\u001b[0m\u001b[0mlayer\u001b[0m\u001b[1;33m]\u001b[0m\u001b[1;33m)\u001b[0m\u001b[1;33m\u001b[0m\u001b[1;33m\u001b[0m\u001b[0m\n",
      "\u001b[1;31mTypeError\u001b[0m: The added layer must be an instance of class Layer. Found: <keras.layers.core.Activation object at 0x0000022860E17808>"
     ]
    }
   ],
   "source": [
    "model = Sequential()\n",
    "\n",
    "# 1st Convolutional Layer\n",
    "model.add(Conv2D(filters=32, input_shape=(200, 23, 1), kernel_size=(3, 2), strides=(8, 1), padding=\"same\"))\n",
    "\n",
    "\n",
    "model.add(Activation('relu'))\n",
    "# Max Pooling\n",
    "model.add(MaxPooling2D(pool_size=(3, 3), strides=(1, 1), padding='valid'))\n",
    "\n",
    "# 2nd Convolutional Layer\n",
    "model.add(Conv2D(filters=32, kernel_size=(3, 3), strides=(1, 1), padding='valid'))\n",
    "model.add(Activation('relu'))\n",
    "# Max Pooling\n",
    "model.add(MaxPooling2D(pool_size=(3, 3), strides=(1, 1), padding='valid'))\n",
    "\n",
    "# 3rd Convolutional Layer\n",
    "model.add(Conv2D(filters=64, kernel_size=(3, 3), strides=(1, 1), padding='valid'))\n",
    "model.add(Activation('relu'))\n",
    "\n",
    "# 4th Convolutional Layer\n",
    "model.add(Conv2D(filters=64, kernel_size=(3, 3), strides=(1, 1), padding='valid'))\n",
    "model.add(Activation('relu'))\n",
    "\n",
    "# Max Pooling\n",
    "model.add(MaxPooling2D(pool_size=(3, 3), strides=(2, 2), padding='valid'))\n",
    "\n",
    "# Fully Connected layer\n",
    "model.add(Flatten())\n",
    "# 1st Fully Connected Layer\n",
    "model.add(Dense(512))\n",
    "model.add(Activation('relu'))\n",
    "# Add Dropout to prevent overfitting\n",
    "\n",
    "\n",
    "model.add(Dropout(0.3))\n",
    "\n",
    "# Output Layer\n",
    "# important to have dense 10, since we have 10 classes\n",
    "model.add(Dense(10))\n",
    "model.add(Activation('softmax'))\n",
    "\n",
    "model.summary()\n",
    "\n",
    "# Compile the model\n",
    "model.compile(loss=keras.losses.categorical_crossentropy, optimizer='adam', metrics=['accuracy'])\n",
    "\n",
    "history= model.fit(df_image, one_hot_targets, validation_split=0.3, epochs= 15 , callbacks=[early_stopping_monitor]).history\n",
    "\n"
   ]
  },
  {
   "cell_type": "code",
   "execution_count": 36,
   "metadata": {},
   "outputs": [],
   "source": [
    "import numpy as np\n",
    "from sklearn.model_selection import KFold,StratifiedKFold"
   ]
  },
  {
   "cell_type": "code",
   "execution_count": 82,
   "metadata": {},
   "outputs": [],
   "source": [
    "X = np.array([\n",
    "    [1,2,3,4],\n",
    "    [11,12,13,14],\n",
    "    [21,22,23,24],\n",
    "    [31,32,33,34],\n",
    "    [41,42,43,44],\n",
    "    [51,52,53,54],\n",
    "    [61,62,63,64],\n",
    "    [71,72,73,74]\n",
    "])\n",
    "\n",
    "y = np.array([0,0,0,0,1,1,1,1])"
   ]
  },
  {
   "cell_type": "code",
   "execution_count": 83,
   "metadata": {},
   "outputs": [],
   "source": [
    "sfolder = StratifiedKFold(n_splits=4,shuffle=False)"
   ]
  },
  {
   "cell_type": "code",
   "execution_count": 84,
   "metadata": {},
   "outputs": [
    {
     "name": "stdout",
     "output_type": "stream",
     "text": [
      "StratifiedKFold(n_splits=4, random_state=None, shuffle=False)\n"
     ]
    }
   ],
   "source": [
    "print(sfolder)"
   ]
  },
  {
   "cell_type": "code",
   "execution_count": 85,
   "metadata": {},
   "outputs": [],
   "source": [
    "j= sfolder.split(X,y)"
   ]
  },
  {
   "cell_type": "code",
   "execution_count": 86,
   "metadata": {},
   "outputs": [
    {
     "name": "stdout",
     "output_type": "stream",
     "text": [
      "<generator object _BaseKFold.split at 0x0000018DBEC6FC48>\n"
     ]
    }
   ],
   "source": [
    "print(j)"
   ]
  },
  {
   "cell_type": "code",
   "execution_count": 87,
   "metadata": {},
   "outputs": [
    {
     "name": "stdout",
     "output_type": "stream",
     "text": [
      "Train: [1 2 3 5 6 7] | test: [0 4]\n",
      "Train: [0 2 3 4 6 7] | test: [1 5]\n",
      "Train: [0 1 3 4 5 7] | test: [2 6]\n",
      "Train: [0 1 2 4 5 6] | test: [3 7]\n",
      "StratifiedKFold done\n"
     ]
    }
   ],
   "source": [
    "for train, test in sfolder.split(X,y):\n",
    "    print('Train: %s | test: %s' % (train, test))\n",
    "print(\"StratifiedKFold done\")"
   ]
  },
  {
   "cell_type": "code",
   "execution_count": null,
   "metadata": {},
   "outputs": [],
   "source": []
  },
  {
   "cell_type": "code",
   "execution_count": null,
   "metadata": {},
   "outputs": [],
   "source": []
  },
  {
   "cell_type": "code",
   "execution_count": null,
   "metadata": {},
   "outputs": [],
   "source": []
  },
  {
   "cell_type": "code",
   "execution_count": 141,
   "metadata": {},
   "outputs": [
    {
     "name": "stdout",
     "output_type": "stream",
     "text": [
      "Train: [15114  6158 12867 ...  6335 14284  8253] | test: [   0    1    2 ... 3057 3058 3059]  ytest: [0 0 0 ... 1 1 1]\n",
      "Train: [6476 8672 8409 ... 8897 1837 6712] | test: [3060 3061 3062 ... 6117 6118 6119]  ytest: [1 1 1 ... 1 1 1]\n",
      "Train: [14119  2108   113 ... 13275 14527 10223] | test: [6120 6121 6122 ... 9177 9178 9179]  ytest: [1 1 1 ... 0 0 0]\n",
      "Train: [ 2957 15125  1034 ...  6203 13741  5608] | test: [ 9180  9181  9182 ... 12237 12238 12239]  ytest: [0 0 0 ... 0 0 0]\n",
      "Train: [2844 1223 2583 ... 1798 7813 7149] | test: [12240 12241 12242 ... 15297 15298 15299]  ytest: [0 0 0 ... 1 1 1]\n",
      "KFold done\n"
     ]
    }
   ],
   "source": [
    "floder = KFold(n_splits=5,shuffle=False)\n",
    "for train, test in floder.split(X,y):\n",
    "    train = shuffle(train)\n",
    "    print('Train: %s | test: %s  ytest: %s' % (train, test, y[test]))\n",
    "print(\"KFold done\")"
   ]
  },
  {
   "cell_type": "code",
   "execution_count": 95,
   "metadata": {},
   "outputs": [
    {
     "data": {
      "text/plain": [
       "(7650, 2)"
      ]
     },
     "execution_count": 95,
     "metadata": {},
     "output_type": "execute_result"
    }
   ],
   "source": [
    "y[test].shape"
   ]
  },
  {
   "cell_type": "code",
   "execution_count": null,
   "metadata": {},
   "outputs": [],
   "source": []
  },
  {
   "cell_type": "code",
   "execution_count": null,
   "metadata": {},
   "outputs": [],
   "source": []
  },
  {
   "cell_type": "code",
   "execution_count": 39,
   "metadata": {},
   "outputs": [
    {
     "data": {
      "text/plain": [
       "(3060, 200, 23, 1)"
      ]
     },
     "execution_count": 39,
     "metadata": {},
     "output_type": "execute_result"
    }
   ],
   "source": [
    "df_ok[X_test].shape"
   ]
  },
  {
   "cell_type": "code",
   "execution_count": 22,
   "metadata": {},
   "outputs": [
    {
     "data": {
      "text/plain": [
       "(15300, 200, 23, 1)"
      ]
     },
     "execution_count": 22,
     "metadata": {},
     "output_type": "execute_result"
    }
   ],
   "source": [
    "df_ok.shape"
   ]
  },
  {
   "cell_type": "code",
   "execution_count": 23,
   "metadata": {},
   "outputs": [
    {
     "data": {
      "text/plain": [
       "(15300, 2)"
      ]
     },
     "execution_count": 23,
     "metadata": {},
     "output_type": "execute_result"
    }
   ],
   "source": [
    "one_hot_targets.shape"
   ]
  },
  {
   "cell_type": "code",
   "execution_count": 24,
   "metadata": {},
   "outputs": [
    {
     "data": {
      "text/plain": [
       "(15300, 200, 23)"
      ]
     },
     "execution_count": 24,
     "metadata": {},
     "output_type": "execute_result"
    }
   ],
   "source": [
    "df_ok1= df.values.reshape(-1, 200, 23)\n",
    "df_ok1.shape"
   ]
  },
  {
   "cell_type": "code",
   "execution_count": 27,
   "metadata": {},
   "outputs": [
    {
     "data": {
      "text/plain": [
       "3060"
      ]
     },
     "execution_count": 27,
     "metadata": {},
     "output_type": "execute_result"
    }
   ],
   "source": [
    "15300-12240"
   ]
  },
  {
   "cell_type": "code",
   "execution_count": 48,
   "metadata": {},
   "outputs": [
    {
     "name": "stdout",
     "output_type": "stream",
     "text": [
      "Epoch 1/10\n",
      "388/388 [==============================] - 18s 44ms/step - loss: 0.6852 - accuracy: 0.5146 - val_loss: 0.6230 - val_accuracy: 0.6500\n",
      "Epoch 2/10\n",
      "388/388 [==============================] - 17s 44ms/step - loss: 0.6085 - accuracy: 0.6484 - val_loss: 0.5529 - val_accuracy: 0.7175\n",
      "Epoch 3/10\n",
      "388/388 [==============================] - 18s 47ms/step - loss: 0.5540 - accuracy: 0.6797 - val_loss: 0.4384 - val_accuracy: 0.8228\n",
      "Epoch 4/10\n",
      "388/388 [==============================] - 19s 48ms/step - loss: 0.4954 - accuracy: 0.7439 - val_loss: 0.3776 - val_accuracy: 0.8693\n",
      "Epoch 5/10\n",
      "388/388 [==============================] - 17s 45ms/step - loss: 0.4743 - accuracy: 0.7660 - val_loss: 0.3304 - val_accuracy: 0.8882\n",
      "Epoch 6/10\n",
      "388/388 [==============================] - 20s 53ms/step - loss: 0.3695 - accuracy: 0.8558 - val_loss: 0.2813 - val_accuracy: 0.9092\n",
      "Epoch 7/10\n",
      "388/388 [==============================] - 18s 46ms/step - loss: 0.3416 - accuracy: 0.8661 - val_loss: 0.2540 - val_accuracy: 0.9208\n",
      "Epoch 8/10\n",
      "388/388 [==============================] - 18s 46ms/step - loss: 0.3259 - accuracy: 0.8754 - val_loss: 0.2312 - val_accuracy: 0.9303\n",
      "Epoch 9/10\n",
      "388/388 [==============================] - 18s 46ms/step - loss: 0.3028 - accuracy: 0.8892 - val_loss: 0.2698 - val_accuracy: 0.8991\n",
      "Epoch 10/10\n",
      "388/388 [==============================] - 17s 45ms/step - loss: 0.2866 - accuracy: 0.8968 - val_loss: 0.2145 - val_accuracy: 0.9339\n",
      "number: 0.4176470588235294\n",
      "Epoch 1/10\n",
      "388/388 [==============================] - 19s 48ms/step - loss: 0.6717 - accuracy: 0.5979 - val_loss: 0.3972 - val_accuracy: 0.8126\n",
      "Epoch 2/10\n",
      "388/388 [==============================] - 19s 48ms/step - loss: 0.4148 - accuracy: 0.7718 - val_loss: 0.2165 - val_accuracy: 0.9092\n",
      "Epoch 3/10\n",
      "388/388 [==============================] - 18s 46ms/step - loss: 0.3440 - accuracy: 0.8023 - val_loss: 0.2255 - val_accuracy: 0.9107\n",
      "Epoch 4/10\n",
      "388/388 [==============================] - 19s 48ms/step - loss: 0.3171 - accuracy: 0.8194 - val_loss: 0.1281 - val_accuracy: 0.9470\n",
      "Epoch 5/10\n",
      "388/388 [==============================] - 18s 47ms/step - loss: 0.3011 - accuracy: 0.8215 - val_loss: 0.1120 - val_accuracy: 0.9601\n",
      "Epoch 6/10\n",
      "388/388 [==============================] - 18s 46ms/step - loss: 0.2875 - accuracy: 0.8345 - val_loss: 0.1050 - val_accuracy: 0.9731\n",
      "Epoch 7/10\n",
      "388/388 [==============================] - 18s 46ms/step - loss: 0.2677 - accuracy: 0.8435 - val_loss: 0.0827 - val_accuracy: 0.9775\n",
      "Epoch 8/10\n",
      "388/388 [==============================] - 18s 48ms/step - loss: 0.2505 - accuracy: 0.8509 - val_loss: 0.0702 - val_accuracy: 0.9818\n",
      "Epoch 9/10\n",
      "388/388 [==============================] - 17s 45ms/step - loss: 0.2631 - accuracy: 0.8392 - val_loss: 0.0676 - val_accuracy: 0.9826\n",
      "Epoch 10/10\n",
      "388/388 [==============================] - 18s 46ms/step - loss: 0.2566 - accuracy: 0.8441 - val_loss: 0.0631 - val_accuracy: 0.9869\n",
      "number: 0.8032679738562092\n",
      "Epoch 1/10\n",
      "388/388 [==============================] - 17s 41ms/step - loss: 0.6544 - accuracy: 0.5814 - val_loss: 0.4970 - val_accuracy: 0.7654\n",
      "Epoch 2/10\n",
      "388/388 [==============================] - 16s 40ms/step - loss: 0.5091 - accuracy: 0.7323 - val_loss: 0.4327 - val_accuracy: 0.7792\n",
      "Epoch 3/10\n",
      "388/388 [==============================] - 16s 40ms/step - loss: 0.3924 - accuracy: 0.7882 - val_loss: 0.2372 - val_accuracy: 0.8940\n",
      "Epoch 4/10\n",
      "388/388 [==============================] - 16s 42ms/step - loss: 0.2878 - accuracy: 0.8534 - val_loss: 0.1601 - val_accuracy: 0.9303\n",
      "Epoch 5/10\n",
      "388/388 [==============================] - 16s 41ms/step - loss: 0.2177 - accuracy: 0.8870 - val_loss: 0.0937 - val_accuracy: 0.9615\n",
      "Epoch 6/10\n",
      "388/388 [==============================] - 16s 40ms/step - loss: 0.1528 - accuracy: 0.9212 - val_loss: 0.0904 - val_accuracy: 0.9688\n",
      "Epoch 7/10\n",
      "388/388 [==============================] - 16s 42ms/step - loss: 0.1445 - accuracy: 0.9250 - val_loss: 0.0699 - val_accuracy: 0.9702\n",
      "Epoch 8/10\n",
      "388/388 [==============================] - 16s 41ms/step - loss: 0.1258 - accuracy: 0.9373 - val_loss: 0.0545 - val_accuracy: 0.9833\n",
      "Epoch 9/10\n",
      "388/388 [==============================] - 16s 40ms/step - loss: 0.1157 - accuracy: 0.9382 - val_loss: 0.0436 - val_accuracy: 0.9862\n",
      "Epoch 10/10\n",
      "388/388 [==============================] - 18s 46ms/step - loss: 0.1258 - accuracy: 0.9333 - val_loss: 0.1068 - val_accuracy: 0.9666\n",
      "number: 0.8431372549019608\n",
      "Epoch 1/10\n",
      "388/388 [==============================] - 18s 44ms/step - loss: 0.6579 - accuracy: 0.6000 - val_loss: 0.4641 - val_accuracy: 0.7502\n",
      "Epoch 2/10\n",
      "388/388 [==============================] - 16s 40ms/step - loss: 0.5049 - accuracy: 0.7115 - val_loss: 0.4310 - val_accuracy: 0.8010\n",
      "Epoch 3/10\n",
      "388/388 [==============================] - 16s 40ms/step - loss: 0.4361 - accuracy: 0.7684 - val_loss: 0.3669 - val_accuracy: 0.8359\n",
      "Epoch 4/10\n",
      "388/388 [==============================] - 16s 42ms/step - loss: 0.3991 - accuracy: 0.7832 - val_loss: 0.3323 - val_accuracy: 0.8489\n",
      "Epoch 5/10\n",
      "388/388 [==============================] - 15s 39ms/step - loss: 0.3663 - accuracy: 0.8037 - val_loss: 0.2975 - val_accuracy: 0.8700\n",
      "Epoch 6/10\n",
      "388/388 [==============================] - 14s 36ms/step - loss: 0.3310 - accuracy: 0.8117 - val_loss: 0.2825 - val_accuracy: 0.8707\n",
      "Epoch 7/10\n",
      "388/388 [==============================] - 14s 36ms/step - loss: 0.2934 - accuracy: 0.8314 - val_loss: 0.2437 - val_accuracy: 0.8824\n",
      "Epoch 8/10\n",
      "388/388 [==============================] - 14s 36ms/step - loss: 0.2738 - accuracy: 0.8348 - val_loss: 0.2157 - val_accuracy: 0.8969\n",
      "Epoch 9/10\n",
      "388/388 [==============================] - 14s 36ms/step - loss: 0.2461 - accuracy: 0.8918 - val_loss: 0.1708 - val_accuracy: 0.9187\n",
      "Epoch 10/10\n",
      "388/388 [==============================] - 14s 36ms/step - loss: 0.2382 - accuracy: 0.8991 - val_loss: 0.1601 - val_accuracy: 0.9267\n",
      "number: 0.6666666666666666\n",
      "Epoch 1/10\n",
      "388/388 [==============================] - 18s 45ms/step - loss: 0.6581 - accuracy: 0.6037 - val_loss: 0.4574 - val_accuracy: 0.7763\n",
      "Epoch 2/10\n",
      "388/388 [==============================] - 16s 41ms/step - loss: 0.4646 - accuracy: 0.7659 - val_loss: 0.3208 - val_accuracy: 0.8511\n",
      "Epoch 3/10\n",
      "388/388 [==============================] - 16s 41ms/step - loss: 0.3759 - accuracy: 0.8142 - val_loss: 0.2320 - val_accuracy: 0.8954\n",
      "Epoch 4/10\n",
      "388/388 [==============================] - 16s 41ms/step - loss: 0.2978 - accuracy: 0.8617 - val_loss: 0.1675 - val_accuracy: 0.9383\n",
      "Epoch 5/10\n",
      "388/388 [==============================] - 16s 41ms/step - loss: 0.2552 - accuracy: 0.8759 - val_loss: 0.1273 - val_accuracy: 0.9434\n",
      "Epoch 6/10\n",
      "388/388 [==============================] - 16s 41ms/step - loss: 0.2296 - accuracy: 0.8928 - val_loss: 0.1164 - val_accuracy: 0.9441\n",
      "Epoch 7/10\n",
      "388/388 [==============================] - 16s 41ms/step - loss: 0.2060 - accuracy: 0.9058 - val_loss: 0.0873 - val_accuracy: 0.9593\n",
      "Epoch 8/10\n",
      "388/388 [==============================] - 16s 41ms/step - loss: 0.1941 - accuracy: 0.9124 - val_loss: 0.0870 - val_accuracy: 0.9550\n",
      "Epoch 9/10\n",
      "388/388 [==============================] - 16s 42ms/step - loss: 0.1828 - accuracy: 0.9141 - val_loss: 0.0721 - val_accuracy: 0.9680\n",
      "Epoch 10/10\n",
      "388/388 [==============================] - 16s 42ms/step - loss: 0.1704 - accuracy: 0.9212 - val_loss: 0.0675 - val_accuracy: 0.9688\n",
      "number: 0.615686274509804\n",
      "Epoch 1/10\n",
      "388/388 [==============================] - 17s 42ms/step - loss: 0.6439 - accuracy: 0.6280 - val_loss: 0.4057 - val_accuracy: 0.8402\n",
      "Epoch 2/10\n",
      "388/388 [==============================] - 16s 41ms/step - loss: 0.4310 - accuracy: 0.8007 - val_loss: 0.3699 - val_accuracy: 0.8446\n",
      "Epoch 3/10\n",
      "388/388 [==============================] - 16s 42ms/step - loss: 0.3531 - accuracy: 0.8202 - val_loss: 0.2744 - val_accuracy: 0.8562\n",
      "Epoch 4/10\n",
      "388/388 [==============================] - 16s 41ms/step - loss: 0.3131 - accuracy: 0.8288 - val_loss: 0.2453 - val_accuracy: 0.8664\n",
      "Epoch 5/10\n",
      "388/388 [==============================] - 16s 41ms/step - loss: 0.2913 - accuracy: 0.8403 - val_loss: 0.2496 - val_accuracy: 0.8511\n",
      "Epoch 6/10\n"
     ]
    },
    {
     "name": "stdout",
     "output_type": "stream",
     "text": [
      "388/388 [==============================] - 18s 47ms/step - loss: 0.2771 - accuracy: 0.8416 - val_loss: 0.2096 - val_accuracy: 0.8889\n",
      "Epoch 7/10\n",
      "388/388 [==============================] - 16s 40ms/step - loss: 0.2600 - accuracy: 0.8434 - val_loss: 0.2358 - val_accuracy: 0.8620\n",
      "Epoch 8/10\n",
      "388/388 [==============================] - 15s 40ms/step - loss: 0.2435 - accuracy: 0.8623 - val_loss: 0.1848 - val_accuracy: 0.9099\n",
      "Epoch 9/10\n",
      "388/388 [==============================] - 15s 40ms/step - loss: 0.2271 - accuracy: 0.8786 - val_loss: 0.1695 - val_accuracy: 0.9194\n",
      "Epoch 10/10\n",
      "388/388 [==============================] - 15s 40ms/step - loss: 0.2228 - accuracy: 0.8748 - val_loss: 0.1727 - val_accuracy: 0.9114\n",
      "number: 0.48104575163398694\n",
      "Epoch 1/10\n",
      "388/388 [==============================] - 16s 40ms/step - loss: 0.6468 - accuracy: 0.6053 - val_loss: 0.4643 - val_accuracy: 0.7945\n",
      "Epoch 2/10\n",
      "388/388 [==============================] - 16s 40ms/step - loss: 0.4760 - accuracy: 0.7624 - val_loss: 0.3703 - val_accuracy: 0.8381\n",
      "Epoch 3/10\n",
      "388/388 [==============================] - 15s 40ms/step - loss: 0.4159 - accuracy: 0.7853 - val_loss: 0.3044 - val_accuracy: 0.8635\n",
      "Epoch 4/10\n",
      "388/388 [==============================] - 16s 40ms/step - loss: 0.3609 - accuracy: 0.8219 - val_loss: 0.2788 - val_accuracy: 0.8751\n",
      "Epoch 5/10\n",
      "388/388 [==============================] - 15s 40ms/step - loss: 0.3272 - accuracy: 0.8393 - val_loss: 0.2485 - val_accuracy: 0.8773\n",
      "Epoch 6/10\n",
      "388/388 [==============================] - 16s 40ms/step - loss: 0.3168 - accuracy: 0.8385 - val_loss: 0.2357 - val_accuracy: 0.8780\n",
      "Epoch 7/10\n",
      "388/388 [==============================] - 16s 40ms/step - loss: 0.3146 - accuracy: 0.8433 - val_loss: 0.2146 - val_accuracy: 0.8896\n",
      "Epoch 8/10\n",
      "388/388 [==============================] - 15s 40ms/step - loss: 0.2834 - accuracy: 0.8478 - val_loss: 0.2020 - val_accuracy: 0.8932\n",
      "Epoch 9/10\n",
      "388/388 [==============================] - 15s 40ms/step - loss: 0.2730 - accuracy: 0.8553 - val_loss: 0.1719 - val_accuracy: 0.9049\n",
      "Epoch 10/10\n",
      "388/388 [==============================] - 15s 40ms/step - loss: 0.2667 - accuracy: 0.8595 - val_loss: 0.1756 - val_accuracy: 0.9114\n",
      "number: 0.6666666666666666\n",
      "Epoch 1/10\n",
      "388/388 [==============================] - 17s 40ms/step - loss: 0.6864 - accuracy: 0.5336 - val_loss: 0.5869 - val_accuracy: 0.7110\n",
      "Epoch 2/10\n",
      "388/388 [==============================] - 15s 40ms/step - loss: 0.5994 - accuracy: 0.6440 - val_loss: 0.4630 - val_accuracy: 0.7298\n",
      "Epoch 3/10\n",
      "388/388 [==============================] - 16s 40ms/step - loss: 0.5150 - accuracy: 0.6777 - val_loss: 0.3866 - val_accuracy: 0.7727\n",
      "Epoch 4/10\n",
      "388/388 [==============================] - 16s 40ms/step - loss: 0.4692 - accuracy: 0.7102 - val_loss: 0.2984 - val_accuracy: 0.8519\n",
      "Epoch 5/10\n",
      "388/388 [==============================] - 16s 40ms/step - loss: 0.4015 - accuracy: 0.7497 - val_loss: 0.2157 - val_accuracy: 0.8983\n",
      "Epoch 6/10\n",
      "388/388 [==============================] - 16s 40ms/step - loss: 0.3554 - accuracy: 0.7730 - val_loss: 0.1823 - val_accuracy: 0.9245\n",
      "Epoch 7/10\n",
      "388/388 [==============================] - 16s 40ms/step - loss: 0.3231 - accuracy: 0.7807 - val_loss: 0.1297 - val_accuracy: 0.9673\n",
      "Epoch 8/10\n",
      "388/388 [==============================] - 16s 40ms/step - loss: 0.3032 - accuracy: 0.8149 - val_loss: 0.1236 - val_accuracy: 0.9644\n",
      "Epoch 9/10\n",
      "388/388 [==============================] - 15s 39ms/step - loss: 0.2921 - accuracy: 0.8228 - val_loss: 0.1360 - val_accuracy: 0.9463\n",
      "Epoch 10/10\n",
      "388/388 [==============================] - 14s 36ms/step - loss: 0.2854 - accuracy: 0.8283 - val_loss: 0.0918 - val_accuracy: 0.9760\n",
      "number: 0.4522875816993464\n",
      "Epoch 1/10\n",
      "388/388 [==============================] - 15s 37ms/step - loss: 0.6887 - accuracy: 0.5249 - val_loss: 0.6234 - val_accuracy: 0.6993\n",
      "Epoch 2/10\n",
      "388/388 [==============================] - 14s 36ms/step - loss: 0.6106 - accuracy: 0.6648 - val_loss: 0.4977 - val_accuracy: 0.7879\n",
      "Epoch 3/10\n",
      "388/388 [==============================] - 14s 36ms/step - loss: 0.5539 - accuracy: 0.7089 - val_loss: 0.4612 - val_accuracy: 0.7959\n",
      "Epoch 4/10\n",
      "388/388 [==============================] - 14s 36ms/step - loss: 0.5445 - accuracy: 0.7089 - val_loss: 0.4329 - val_accuracy: 0.8344\n",
      "Epoch 5/10\n",
      "388/388 [==============================] - 14s 36ms/step - loss: 0.5102 - accuracy: 0.7407 - val_loss: 0.3954 - val_accuracy: 0.8584\n",
      "Epoch 6/10\n",
      "388/388 [==============================] - 14s 36ms/step - loss: 0.4926 - accuracy: 0.7537 - val_loss: 0.3694 - val_accuracy: 0.8809\n",
      "Epoch 7/10\n",
      "388/388 [==============================] - 14s 36ms/step - loss: 0.4815 - accuracy: 0.7622 - val_loss: 0.3526 - val_accuracy: 0.8925\n",
      "Epoch 8/10\n",
      "388/388 [==============================] - 14s 36ms/step - loss: 0.4725 - accuracy: 0.7680 - val_loss: 0.3338 - val_accuracy: 0.9034\n",
      "Epoch 9/10\n",
      "388/388 [==============================] - 14s 37ms/step - loss: 0.4589 - accuracy: 0.7762 - val_loss: 0.3322 - val_accuracy: 0.8991\n",
      "Epoch 10/10\n",
      "388/388 [==============================] - 14s 36ms/step - loss: 0.4506 - accuracy: 0.7819 - val_loss: 0.3009 - val_accuracy: 0.9121\n",
      "number: 0.39215686274509803\n",
      "Epoch 1/10\n",
      "388/388 [==============================] - 15s 36ms/step - loss: 0.6931 - accuracy: 0.5239 - val_loss: 0.6927 - val_accuracy: 0.5156\n",
      "Epoch 2/10\n",
      "388/388 [==============================] - 14s 37ms/step - loss: 0.6920 - accuracy: 0.5263 - val_loss: 0.6927 - val_accuracy: 0.5156\n",
      "Epoch 3/10\n",
      "388/388 [==============================] - 14s 36ms/step - loss: 0.6920 - accuracy: 0.5256 - val_loss: 0.6927 - val_accuracy: 0.5156\n",
      "Epoch 4/10\n",
      "388/388 [==============================] - 14s 36ms/step - loss: 0.6922 - accuracy: 0.5218 - val_loss: 0.6927 - val_accuracy: 0.5156\n",
      "Epoch 5/10\n",
      "388/388 [==============================] - 14s 36ms/step - loss: 0.6928 - accuracy: 0.5147 - val_loss: 0.6928 - val_accuracy: 0.5156\n",
      "Epoch 6/10\n",
      "388/388 [==============================] - 14s 36ms/step - loss: 0.6923 - accuracy: 0.5213 - val_loss: 0.6927 - val_accuracy: 0.5156\n",
      "Epoch 7/10\n",
      "388/388 [==============================] - 14s 36ms/step - loss: 0.6923 - accuracy: 0.5212 - val_loss: 0.6927 - val_accuracy: 0.5156\n",
      "Epoch 8/10\n",
      "388/388 [==============================] - 14s 36ms/step - loss: 0.6922 - accuracy: 0.5217 - val_loss: 0.6927 - val_accuracy: 0.5156\n",
      "Epoch 9/10\n",
      "388/388 [==============================] - 14s 36ms/step - loss: 0.6918 - accuracy: 0.5266 - val_loss: 0.6927 - val_accuracy: 0.5156\n",
      "Epoch 10/10\n",
      "388/388 [==============================] - 14s 36ms/step - loss: 0.6922 - accuracy: 0.5225 - val_loss: 0.6927 - val_accuracy: 0.5156\n",
      "number: 0.4117647058823529\n",
      "[0.4176470588235294, 0.8032679738562092, 0.8431372549019608, 0.6666666666666666, 0.615686274509804, 0.48104575163398694, 0.6666666666666666, 0.4522875816993464, 0.39215686274509803, 0.4117647058823529]\n"
     ]
    }
   ],
   "source": [
    "floder = KFold(n_splits=10,shuffle=False)\n",
    "X=df_ok\n",
    "y=one_hot_targets\n",
    "final=[]\n",
    "for X_train, X_test in floder.split(X, y):\n",
    "    X_train = shuffle(X_train)\n",
    "    #y[X_train]= np.eye(2)[y[X_train].reshape(-1)]\n",
    "    model_cyto().fit(X[X_train],y[X_train], epochs= 10, validation_split=0.1, callbacks=[early_stopping_monitor],shuffle=True)\n",
    "    y_pred = model_cyto().predict(X[X_test])\n",
    "    y_pred= np.argmax(y_pred, axis=-1)\n",
    "    #y[X_test]= np.eye(2)[y[X_test].reshape(-1)]\n",
    "    y_test1= np.argmax(y[X_test], axis=-1)\n",
    "\n",
    "    res= metrics.accuracy_score(y_test1, y_pred)\n",
    "    final.append(res)\n",
    "    print(\"number: %s\"  %(res))\n",
    "print(final)\n",
    "#sum(final)"
   ]
  },
  {
   "cell_type": "code",
   "execution_count": 47,
   "metadata": {},
   "outputs": [
    {
     "data": {
      "text/plain": [
       "[0.6098039215686275]"
      ]
     },
     "execution_count": 47,
     "metadata": {},
     "output_type": "execute_result"
    }
   ],
   "source": [
    "final"
   ]
  },
  {
   "cell_type": "code",
   "execution_count": 55,
   "metadata": {},
   "outputs": [
    {
     "name": "stdout",
     "output_type": "stream",
     "text": [
      "[10]\n"
     ]
    }
   ],
   "source": [
    "l=[]\n",
    "l.append(10)\n",
    "print(l)"
   ]
  },
  {
   "cell_type": "code",
   "execution_count": null,
   "metadata": {},
   "outputs": [],
   "source": []
  }
 ],
 "metadata": {
  "kernelspec": {
   "display_name": "Python 3",
   "language": "python",
   "name": "python3"
  },
  "language_info": {
   "codemirror_mode": {
    "name": "ipython",
    "version": 3
   },
   "file_extension": ".py",
   "mimetype": "text/x-python",
   "name": "python",
   "nbconvert_exporter": "python",
   "pygments_lexer": "ipython3",
   "version": "3.7.4"
  }
 },
 "nbformat": 4,
 "nbformat_minor": 2
}
