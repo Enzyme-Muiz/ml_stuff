{
 "cells": [
  {
   "cell_type": "code",
   "execution_count": 2,
   "metadata": {},
   "outputs": [],
   "source": [
    "import tensorflow as tf\n",
    "import numpy as np\n",
    "#tf.compat.v1.reset_default_graph()"
   ]
  },
  {
   "cell_type": "code",
   "execution_count": 7,
   "metadata": {},
   "outputs": [
    {
     "name": "stdout",
     "output_type": "stream",
     "text": [
      "42\n"
     ]
    }
   ],
   "source": [
    "# After eager execution is enabled, operations are executed as they are\n",
    "# defined and Tensor objects hold concrete values, which can be accessed as\n",
    "# numpy.ndarray`s through the numpy() method.\n",
    "#ensure to run this either at the start of the coding or after restarting the kernel\n",
    "tf.compat.v1.enable_eager_execution()           #enabled\n",
    "print(tf.multiply(6, 7).numpy())\n",
    "\n",
    "tf.compat.v1.disable_eager_execution()       #disabled"
   ]
  },
  {
   "cell_type": "code",
   "execution_count": null,
   "metadata": {},
   "outputs": [],
   "source": []
  },
  {
   "cell_type": "code",
   "execution_count": null,
   "metadata": {},
   "outputs": [],
   "source": []
  },
  {
   "cell_type": "code",
   "execution_count": null,
   "metadata": {},
   "outputs": [],
   "source": []
  },
  {
   "cell_type": "code",
   "execution_count": null,
   "metadata": {},
   "outputs": [],
   "source": [
    "####variable_and_constants_declarations\n",
    " \n",
    "#name_scope      name scope is ignored by tf.get_variable.\n",
    "# get_variable\n",
    "# Variable\n",
    "# variable_scope\n",
    "# random.uniform([3,3], minval=0 , maxval =5)\n",
    "# zeros([3,3])\n",
    "# constant\n",
    "#initialize_all_variables\n"
   ]
  },
  {
   "cell_type": "code",
   "execution_count": 3,
   "metadata": {},
   "outputs": [
    {
     "name": "stdout",
     "output_type": "stream",
     "text": [
      "WARNING:tensorflow:From C:\\Users\\rajim\\Anaconda3\\lib\\site-packages\\tensorflow\\python\\ops\\init_ops.py:1251: calling VarianceScaling.__init__ (from tensorflow.python.ops.init_ops) with dtype is deprecated and will be removed in a future version.\n",
      "Instructions for updating:\n",
      "Call initializer instance with the dtype argument instead of passing it to the constructor\n"
     ]
    }
   ],
   "source": [
    "with tf.name_scope(\"my_scope\"):\n",
    "    v1 = tf.get_variable(\"var1\", [1], dtype=tf.float32)\n",
    "    v2 = tf.Variable(1, name=\"var1\", dtype=tf.float32)\n",
    "    a = tf.add(v1, v2)"
   ]
  },
  {
   "cell_type": "code",
   "execution_count": 4,
   "metadata": {},
   "outputs": [
    {
     "name": "stdout",
     "output_type": "stream",
     "text": [
      "var1:0\n",
      "my_scope/var1:0\n"
     ]
    }
   ],
   "source": [
    "print(v1.name)\n",
    "print(v2.name)\n",
    "#print(a.name)"
   ]
  },
  {
   "cell_type": "code",
   "execution_count": 5,
   "metadata": {},
   "outputs": [
    {
     "name": "stdout",
     "output_type": "stream",
     "text": [
      "my_scoped/var1:0\n",
      "my_scoped/var2:0\n",
      "my_scoped/Add:0\n"
     ]
    }
   ],
   "source": [
    "with tf.variable_scope(\"my_scoped\"):\n",
    "    v1 = tf.get_variable(\"var1\", [1], dtype=tf.float32)\n",
    "    v2 = tf.Variable(1, name=\"var2\", dtype=tf.float32)\n",
    "    v3 = tf.Variable(1, name=\"var2\", dtype=tf.float32)\n",
    "    a = tf.add(v1, v3)\n",
    "\n",
    "print(v1.name)  # my_scope/var1:0\n",
    "print(v2.name) # my_scope/var2:0\n",
    "print(v3.name)\n",
    "print(a.name) "
   ]
  },
  {
   "cell_type": "code",
   "execution_count": 7,
   "metadata": {},
   "outputs": [],
   "source": [
    "my_var= tf.Variable(4, name=\"my_variable\")"
   ]
  },
  {
   "cell_type": "code",
   "execution_count": 8,
   "metadata": {},
   "outputs": [],
   "source": [
    "add= tf.add(3, my_var)"
   ]
  },
  {
   "cell_type": "code",
   "execution_count": 9,
   "metadata": {},
   "outputs": [
    {
     "name": "stdout",
     "output_type": "stream",
     "text": [
      "Tensor(\"Add:0\", shape=(), dtype=int32)\n"
     ]
    }
   ],
   "source": [
    "print(add)"
   ]
  },
  {
   "cell_type": "code",
   "execution_count": 10,
   "metadata": {},
   "outputs": [
    {
     "name": "stdout",
     "output_type": "stream",
     "text": [
      "4\n"
     ]
    }
   ],
   "source": [
    "sess= tf.Session()\n",
    "sess.run(my_var.initializer)\n",
    "print(my_var.eval(session=sess))"
   ]
  },
  {
   "cell_type": "code",
   "execution_count": 11,
   "metadata": {},
   "outputs": [
    {
     "name": "stdout",
     "output_type": "stream",
     "text": [
      "7\n"
     ]
    }
   ],
   "source": [
    "#sess.run(.initializer)\n",
    "print(add.eval(session=sess))"
   ]
  },
  {
   "cell_type": "code",
   "execution_count": 12,
   "metadata": {},
   "outputs": [],
   "source": [
    "zeros= tf.zeros([3,3])"
   ]
  },
  {
   "cell_type": "code",
   "execution_count": 15,
   "metadata": {},
   "outputs": [
    {
     "name": "stdout",
     "output_type": "stream",
     "text": [
      "[[0. 0. 0.]\n",
      " [0. 0. 0.]\n",
      " [0. 0. 0.]]\n"
     ]
    }
   ],
   "source": [
    "print(zeros.eval(session=sess))"
   ]
  },
  {
   "cell_type": "code",
   "execution_count": 16,
   "metadata": {},
   "outputs": [
    {
     "name": "stdout",
     "output_type": "stream",
     "text": [
      "[[0. 0. 0.]\n",
      " [0. 0. 0.]\n",
      " [0. 0. 0.]]\n"
     ]
    }
   ],
   "source": [
    "print(sess.run(zeros))"
   ]
  },
  {
   "cell_type": "code",
   "execution_count": 17,
   "metadata": {},
   "outputs": [],
   "source": [
    "#uniform= tf.random.uniform([3,3], minval=0 , maxval =5)\n"
   ]
  },
  {
   "cell_type": "code",
   "execution_count": 18,
   "metadata": {},
   "outputs": [
    {
     "name": "stdout",
     "output_type": "stream",
     "text": [
      "[[1.5243053  2.0037956  0.7506585 ]\n",
      " [1.1200643  2.7734714  3.8732672 ]\n",
      " [1.0103953  2.2070246  0.11396468]]\n"
     ]
    }
   ],
   "source": [
    "print(sess.run(uniform))"
   ]
  },
  {
   "cell_type": "code",
   "execution_count": 3,
   "metadata": {},
   "outputs": [
    {
     "name": "stdout",
     "output_type": "stream",
     "text": [
      "WARNING:tensorflow:From C:\\Users\\rajim\\Anaconda3\\envs\\R\\lib\\site-packages\\tensorflow\\python\\framework\\op_def_library.py:263: colocate_with (from tensorflow.python.framework.ops) is deprecated and will be removed in a future version.\n",
      "Instructions for updating:\n",
      "Colocations handled automatically by placer.\n"
     ]
    }
   ],
   "source": [
    "with tf.variable_scope(\"foo\"):\n",
    "    v= tf.get_variable(\"v\", [1])\n",
    "assert v.name == \"foo/v:0\""
   ]
  },
  {
   "cell_type": "code",
   "execution_count": 4,
   "metadata": {},
   "outputs": [],
   "source": [
    "assert v.name == \"foo/v:0\""
   ]
  },
  {
   "cell_type": "code",
   "execution_count": 50,
   "metadata": {},
   "outputs": [
    {
     "name": "stdout",
     "output_type": "stream",
     "text": [
      "2.0\n"
     ]
    }
   ],
   "source": [
    "sess= tf.Session()\n",
    "ok = tf.pow(8.0, 1/3, name = \"bode2\") \n",
    "print(sess.run(ok))"
   ]
  },
  {
   "cell_type": "code",
   "execution_count": 68,
   "metadata": {},
   "outputs": [
    {
     "name": "stdout",
     "output_type": "stream",
     "text": [
      "[[1 3 4]\n",
      " [2 1 2]\n",
      " [4 3 3]\n",
      " [2 3 2]\n",
      " [3 3 1]\n",
      " [1 4 4]\n",
      " [3 3 4]\n",
      " [3 1 3]\n",
      " [2 3 4]\n",
      " [4 4 2]]\n",
      "[[1 3 4]\n",
      " [2 1 2]]\n"
     ]
    }
   ],
   "source": [
    "sess= tf.Session()\n",
    "uniform= tf.random.uniform([10,3], minval=1 , maxval =5, dtype=tf.int32)\n",
    "uniform1 = tf.reduce_mean(uniform)\n",
    "#print(sess.run(uniform))\n",
    "#rows = tf.gather(temp_var, idx)\n",
    "#print(sess.run(tf.gather(uniform, tf.constant([0, 2]))))\n",
    "uniform= tf.random.uniform([10,3], minval=1 , maxval =5, dtype=tf.int32)\n",
    "with tf.Session() as sess:\n",
    "    uniform= uniform.eval()\n",
    "    print(uniform)\n",
    "    print(uniform[0:2])\n",
    "    "
   ]
  },
  {
   "cell_type": "code",
   "execution_count": 47,
   "metadata": {},
   "outputs": [
    {
     "data": {
      "text/plain": [
       "18"
      ]
     },
     "execution_count": 47,
     "metadata": {},
     "output_type": "execute_result"
    }
   ],
   "source": [
    "1+1+4+4+4+4"
   ]
  },
  {
   "cell_type": "code",
   "execution_count": null,
   "metadata": {},
   "outputs": [],
   "source": [
    "#####feed_dicting and place_holding \n",
    "\n",
    "\n",
    "#feed_dict= {input_a: uniform1}\n",
    "#tf.placeholder(tf.float32, [None, 3])"
   ]
  },
  {
   "cell_type": "code",
   "execution_count": 41,
   "metadata": {},
   "outputs": [
    {
     "name": "stdout",
     "output_type": "stream",
     "text": [
      "[[ 2.8618276 12.32141    1.316387 ]]\n",
      "Const_1:0\n",
      "[[4.495987  2.4400754 5.196615 ]]\n",
      "Const_2:0\n",
      "[[8.906898  8.02437   5.9316483]]\n",
      "Const_3:0\n",
      "[[ 0.20780325 10.652547    2.7350092 ]]\n",
      "Const_4:0\n"
     ]
    }
   ],
   "source": [
    "input_a = tf.placeholder(tf.float32, [None, 3])\n",
    "for i in range(4):\n",
    "    with tf.Session() as sess:\n",
    "        uniform1= tf.random.uniform([1,3], minval=0 , maxval =5)\n",
    "        #feed_dict doesnt accept tf tensor\n",
    "        uniform1 = uniform1.eval()\n",
    "        bode1 = tf.constant(3.0)\n",
    "        bode = tf.multiply(input_a,bode1)\n",
    "        aonat = sess.run(bode, feed_dict= {input_a: uniform1})\n",
    "        print(aonat)\n",
    "        print(bode1.name)    "
   ]
  },
  {
   "cell_type": "code",
   "execution_count": null,
   "metadata": {},
   "outputs": [],
   "source": [
    "#####operations\n",
    "\n",
    "\n",
    "# between each epoch and the next the variables with number appended is created may be by tf.Variable()\n",
    "\n",
    "\n",
    "# tf.add(a, b)\n",
    "# tf.substract(a, b)\n",
    "# tf.multiply(a, b)\n",
    "# tf.div(a, b)\n",
    "# tf.pow(a, b)\n",
    "# tf.exp(a)\n",
    "# tf.sqrt(a)\n",
    "#tf.matmul"
   ]
  },
  {
   "cell_type": "code",
   "execution_count": null,
   "metadata": {},
   "outputs": [],
   "source": []
  },
  {
   "cell_type": "code",
   "execution_count": null,
   "metadata": {},
   "outputs": [],
   "source": [
    "#######\n",
    "# softmax\n",
    "# sigmoid\n",
    "# relu\n",
    "# logit\n",
    "# tf.nn.softmax(logits, name=None)\n",
    "\n",
    "# tf.nn.softmax_cross_entropy_with_logits(logits, labels, name=None)  logit just means \n",
    "# the input is not probability so dont think a logit function is done on the input at all\n",
    "\n",
    "# tf.sparse.nn.softmax_cross_entropy_with_logits\n",
    "\n",
    "# if you use categorical-cross-entropy you need one-hot encoding, and if you use \n",
    "# sparse-categorical-cross-entropy you encode as normal integers.\n",
    "\n",
    "# cross-entropy\n",
    "# binary-cross-entropy == at each point it is either a or others(b + c)\n",
    "# categorical-crossentropy == at each point it is just a or b or c"
   ]
  },
  {
   "cell_type": "code",
   "execution_count": null,
   "metadata": {},
   "outputs": [],
   "source": [
    "#define "
   ]
  },
  {
   "cell_type": "code",
   "execution_count": 129,
   "metadata": {},
   "outputs": [
    {
     "name": "stdout",
     "output_type": "stream",
     "text": [
      "[[4.253005]]\n",
      "[0.4732299]\n",
      "[[3.7797751]]\n",
      "[[6.245085]]\n",
      "[0.16763043]\n",
      "[[6.0774546]]\n",
      "[[5.6833262]]\n",
      "[0.6523453]\n",
      "[[5.030981]]\n",
      "[[1.2022153]]\n",
      "[0.44228375]\n",
      "[[0.75993156]]\n",
      "[[7.519516]]\n",
      "[0.28818727]\n",
      "[[7.231329]]\n"
     ]
    }
   ],
   "source": [
    "tf.compat.v1.reset_default_graph()\n",
    "x = tf.random.uniform([10,3], minval=0 , maxval =5)\n",
    "y = tf.random.uniform([10,1], minval=0 , maxval =1)\n",
    "n = tf.placeholder(tf.float32, [1])\n",
    "y_pred = tf.placeholder(tf.float32, [1])\n",
    "y_true = tf.placeholder(tf.float32, [1])\n",
    "def custom_cost(y_pred, y_true):\n",
    "    cost = tf.pow(tf.pow(tf.subtract(y_pred,y_true), 4.0), 1/4.0)\n",
    "    #cost = tf.constant(5.0)\n",
    "    return cost\n",
    "    \n",
    "input_a = tf.placeholder(tf.float32, [None, 3])\n",
    "#wx+b\n",
    "def neural_net(input_a):\n",
    "    \n",
    "    weight = tf.Variable(tf.random_normal([3, 3]))\n",
    "    bias = tf.Variable(tf.random_normal([3]))\n",
    "\n",
    "    weight_b = tf.Variable(tf.random_normal([3, 1]))\n",
    "    bias_b = tf.Variable(tf.random_normal([1]))\n",
    "\n",
    "\n",
    "\n",
    "    layer1 = tf.add(tf.matmul(input_a, weight), bias)\n",
    "    layer2 = tf.add(tf.matmul(layer1, weight_b), bias_b)\n",
    "    \n",
    "    return layer2\n",
    "pred = neural_net(input_a)\n",
    "cost = custom_cost(pred, y_true)\n",
    "#ok = neural_net(x_np[0:2])\n",
    "#ok = neural_net(x)\n",
    "\n",
    "with tf.Session() as sess:\n",
    "    sess.run(tf.initialize_all_variables())\n",
    "    x_np = x.eval()\n",
    "    y_np = y.eval()\n",
    "    for i in range(5):\n",
    "        \n",
    "        neural_net_res, cost_val = sess.run([pred, cost], feed_dict = {input_a: x_np[i].reshape(1,3), y_true: y_np[i]}\n",
    "                                 )\n",
    "        print(neural_net_res)\n",
    "        print(y_np[i])\n",
    "        print(cost_val)\n",
    "        \n",
    "        #print(ok)\n",
    "        #ok.eval()"
   ]
  },
  {
   "cell_type": "code",
   "execution_count": 99,
   "metadata": {},
   "outputs": [
    {
     "name": "stdout",
     "output_type": "stream",
     "text": [
      "[4.4608984 4.08389   4.8499727]\n",
      "[[4.4608984 4.08389   4.8499727]]\n"
     ]
    }
   ],
   "source": [
    "x = tf.random.uniform([10,3], minval=0 , maxval =5)\n",
    "\n",
    "\n",
    "with tf.Session() as sess:\n",
    "    sess.run(tf.initialize_all_variables())\n",
    "    for i in range(1):\n",
    "        x_np = x.eval()\n",
    "        print(x_np[0])\n",
    "        print(x_np[0].reshape(1,3))\n",
    "        #print(x_np[0])\n",
    "        #print(x_np[0].shape)\n",
    "        "
   ]
  },
  {
   "cell_type": "code",
   "execution_count": null,
   "metadata": {},
   "outputs": [],
   "source": []
  },
  {
   "cell_type": "code",
   "execution_count": null,
   "metadata": {},
   "outputs": [],
   "source": [
    "#####saving and restoring tensorflow sessions:\n",
    "##ensure to restore all you need to run your sess.run() "
   ]
  },
  {
   "cell_type": "code",
   "execution_count": 14,
   "metadata": {},
   "outputs": [
    {
     "name": "stdout",
     "output_type": "stream",
     "text": [
      "72.0\n"
     ]
    },
    {
     "data": {
      "text/plain": [
       "'my_test_model-1000'"
      ]
     },
     "execution_count": 14,
     "metadata": {},
     "output_type": "execute_result"
    }
   ],
   "source": [
    "import tensorflow as tf\n",
    "tf.compat.v1.reset_default_graph()\n",
    "\n",
    "#Prepare to feed input, i.e. feed_dict and placeholders\n",
    "w1 = tf.placeholder(\"float\", name=\"w1\")\n",
    "w2 = tf.placeholder(\"float\", name=\"w2\")\n",
    "b1= tf.Variable(2.0,name=\"bias\")\n",
    "b2= tf.Variable(3.0,name=\"bias1\")\n",
    "feed_dict ={w1:4,w2:8}\n",
    "\n",
    "#Define a test operation that we will restore\n",
    "w3 = tf.add(w1,w2)\n",
    "w4 = tf.multiply(w3,b1,name=\"op_to_restore\")\n",
    "w5 = tf.multiply(w4,b2,name=\"op_to_restore1\")\n",
    "sess = tf.Session()\n",
    "sess.run(tf.global_variables_initializer())\n",
    "\n",
    "#Create a saver object which will save all the variables\n",
    "saver = tf.train.Saver()\n",
    "\n",
    "#Run the operation by feeding input\n",
    "print(sess.run(w5,feed_dict))\n",
    "#Prints 24 which is sum of (w1+w2)*b1 \n",
    "\n",
    "#Now, save the graph\n",
    "saver.save(sess, 'my_test_model',global_step=1000)"
   ]
  },
  {
   "cell_type": "code",
   "execution_count": 16,
   "metadata": {},
   "outputs": [
    {
     "name": "stdout",
     "output_type": "stream",
     "text": [
      "INFO:tensorflow:Restoring parameters from ./my_test_model-1000\n",
      "3.0\n",
      "<tf.Variable 'bias:0' shape=() dtype=float32_ref>\n",
      "<tf.Variable 'bias1:0' shape=() dtype=float32_ref>\n",
      "w1\n",
      "w2\n",
      "bias/initial_value\n",
      "bias\n",
      "bias/Assign\n",
      "bias/read\n",
      "bias1/initial_value\n",
      "bias1\n",
      "bias1/Assign\n",
      "bias1/read\n",
      "Add\n",
      "op_to_restore\n",
      "op_to_restore1\n",
      "init\n",
      "save/filename/input\n",
      "save/filename\n",
      "save/Const\n",
      "save/SaveV2/tensor_names\n",
      "save/SaveV2/shape_and_slices\n",
      "save/SaveV2\n",
      "save/control_dependency\n",
      "save/RestoreV2/tensor_names\n",
      "save/RestoreV2/shape_and_slices\n",
      "save/RestoreV2\n",
      "save/Assign\n",
      "save/Assign_1\n",
      "save/restore_all\n"
     ]
    }
   ],
   "source": [
    "\n",
    "import tensorflow as tf\n",
    "tf.compat.v1.reset_default_graph()\n",
    "sess=tf.Session()    \n",
    "#First let's load meta graph and restore weights\n",
    "saver = tf.train.import_meta_graph('my_test_model-1000.meta')\n",
    "saver.restore(sess,tf.train.latest_checkpoint('./'))\n",
    "\n",
    "\n",
    "# Access saved Variables directly\n",
    "print(sess.run('bias1:0'))\n",
    "# This will print 2, which is the value of bias that we saved\n",
    "\n",
    "\n",
    "# Now, let's access and create placeholders variables and\n",
    "# create feed-dict to feed new data\n",
    "\n",
    "graph = tf.get_default_graph()\n",
    "w1 = graph.get_tensor_by_name(\"w1:0\")\n",
    "w2 = graph.get_tensor_by_name(\"w2:0\")\n",
    "feed_dict ={w1:13.0,w2:17.0}\n",
    "\n",
    "#Now, access the op that you want to run. \n",
    "op_to_restore1 = graph.get_tensor_by_name(\"op_to_restore1:0\")\n",
    "\n",
    "#graph = tf.get_default_graph()\n",
    "with sess.as_default(), sess.graph.as_default():\n",
    "    loaded_vars = tf.trainable_variables()\n",
    "    for j in loaded_vars:\n",
    "        print(j)\n",
    "all_ops = tf.get_default_graph().get_operations()\n",
    "#for kk in all_ops:\n",
    "#    print(kk.name)\n",
    "#print(all_ops[1].name)\n",
    "all_nodes = [n for n in tf.get_default_graph().as_graph_def().node]\n",
    "for kk in all_nodes:\n",
    "    print(kk.name)\n",
    "\n",
    "#print(sess.run(op_to_restore1,feed_dict))\n",
    "#This will print 60 which is calculated "
   ]
  },
  {
   "cell_type": "code",
   "execution_count": null,
   "metadata": {},
   "outputs": [],
   "source": []
  }
 ],
 "metadata": {
  "kernelspec": {
   "display_name": "Python 3",
   "language": "python",
   "name": "python3"
  },
  "language_info": {
   "codemirror_mode": {
    "name": "ipython",
    "version": 3
   },
   "file_extension": ".py",
   "mimetype": "text/x-python",
   "name": "python",
   "nbconvert_exporter": "python",
   "pygments_lexer": "ipython3",
   "version": "3.7.6"
  }
 },
 "nbformat": 4,
 "nbformat_minor": 4
}
